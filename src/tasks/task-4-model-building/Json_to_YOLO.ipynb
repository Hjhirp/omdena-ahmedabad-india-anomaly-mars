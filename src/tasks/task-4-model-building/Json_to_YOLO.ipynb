{
  "nbformat": 4,
  "nbformat_minor": 0,
  "metadata": {
    "colab": {
      "name": "Json to YOLO",
      "provenance": [],
      "collapsed_sections": []
    },
    "kernelspec": {
      "name": "python3",
      "display_name": "Python 3"
    },
    "language_info": {
      "name": "python"
    },
    "accelerator": "GPU"
  },
  "cells": [
    {
      "cell_type": "code",
      "source": [
        "from google.colab import drive\n",
        "drive.mount('/content/gdrive')"
      ],
      "metadata": {
        "colab": {
          "base_uri": "https://localhost:8080/"
        },
        "id": "YlQtkwcPtH3-",
        "outputId": "10900c7c-005e-4ae9-b850-2fd57963b5ff"
      },
      "execution_count": null,
      "outputs": [
        {
          "output_type": "stream",
          "name": "stdout",
          "text": [
            "Mounted at /content/gdrive\n"
          ]
        }
      ]
    },
    {
      "cell_type": "code",
      "source": [
        "%cd '/content/gdrive/MyDrive/Omdena_Ahmedabad/Trial/Annotation conversion'"
      ],
      "metadata": {
        "colab": {
          "base_uri": "https://localhost:8080/"
        },
        "id": "1Dg_g3EKtwmU",
        "outputId": "3ff3550f-18fb-4d33-dfbc-93490b01ad2d"
      },
      "execution_count": null,
      "outputs": [
        {
          "output_type": "stream",
          "name": "stdout",
          "text": [
            "/content/gdrive/MyDrive/Omdena_Ahmedabad/Trial/Annotation conversion\n"
          ]
        }
      ]
    },
    {
      "cell_type": "code",
      "source": [
        "%cd '/content/gdrive/MyDrive/Omdena_Ahmedabad/After_Annotations/Final Dataset/train'"
      ],
      "metadata": {
        "colab": {
          "base_uri": "https://localhost:8080/"
        },
        "id": "dIgGRYPNa92A",
        "outputId": "f243a48b-7b4c-44d3-8a53-ffb6d91cdcb3"
      },
      "execution_count": null,
      "outputs": [
        {
          "output_type": "stream",
          "name": "stdout",
          "text": [
            "/content/gdrive/MyDrive/Omdena_Ahmedabad/After_Annotations/Final Dataset/train\n"
          ]
        }
      ]
    },
    {
      "cell_type": "code",
      "source": [
        "!ls"
      ],
      "metadata": {
        "colab": {
          "base_uri": "https://localhost:8080/"
        },
        "id": "JwOqKv3UbN9I",
        "outputId": "b20a2241-38dc-4246-bb52-20b01abcdcd4"
      },
      "execution_count": null,
      "outputs": [
        {
          "output_type": "stream",
          "name": "stdout",
          "text": [
            "'Bright Dune'\t   HiRise_swiss_cheese\t   'Slope Streak'\n",
            "'Crater Dataset'  'Impact Ejecta Dataset'   Spider\n"
          ]
        }
      ]
    },
    {
      "cell_type": "code",
      "source": [
        "!git clone https://github.com/ultralytics/JSON2YOLO.git"
      ],
      "metadata": {
        "colab": {
          "base_uri": "https://localhost:8080/"
        },
        "id": "7gAQDhu9tMX6",
        "outputId": "9c5e77ab-c921-47f3-8513-026ecac2e91b"
      },
      "execution_count": null,
      "outputs": [
        {
          "output_type": "stream",
          "name": "stdout",
          "text": [
            "Cloning into 'JSON2YOLO'...\n",
            "remote: Enumerating objects: 258, done.\u001b[K\n",
            "remote: Counting objects: 100% (86/86), done.\u001b[K\n",
            "remote: Compressing objects: 100% (67/67), done.\u001b[K\n",
            "remote: Total 258 (delta 48), reused 50 (delta 18), pack-reused 172\u001b[K\n",
            "Receiving objects: 100% (258/258), 66.84 KiB | 1.81 MiB/s, done.\n",
            "Resolving deltas: 100% (160/160), done.\n"
          ]
        }
      ]
    },
    {
      "cell_type": "code",
      "source": [
        "!python JSON2YOLO/general_json2yolo.py"
      ],
      "metadata": {
        "colab": {
          "base_uri": "https://localhost:8080/"
        },
        "id": "iETooeFxuGjP",
        "outputId": "554acfdb-dbef-4853-c69a-c29e82a880b5"
      },
      "execution_count": null,
      "outputs": [
        {
          "output_type": "stream",
          "name": "stdout",
          "text": [
            "Annotations /content/gdrive/MyDrive/Omdena_Ahmedabad/After_Annotations/Final Dataset/Dark Dunes/via_project_12Jan2022_23h36m_coco.json: 100% 459/459 [00:02<00:00, 221.45it/s]\n"
          ]
        }
      ]
    },
    {
      "cell_type": "code",
      "source": [
        "import os"
      ],
      "metadata": {
        "id": "q8fpgugs1Aje"
      },
      "execution_count": null,
      "outputs": []
    },
    {
      "cell_type": "code",
      "source": [
        "for f in os.listdir():"
      ],
      "metadata": {
        "id": "PuTmKpAP2eCu"
      },
      "execution_count": null,
      "outputs": []
    },
    {
      "cell_type": "code",
      "source": [
        "for path, subdirs, files in os.walk(r'/content/gdrive/MyDrive/Omdena_Ahmedabad/After_Annotations/YOLO_Dataset'):\n",
        "   for filename in files:\n",
        "     f = os.path.join(path, filename)\n",
        "     #lines = f.readlines()\n",
        "     #for line in f:\n",
        "     #with open(f,'r+') as file:\n",
        "     if f.endswith('.jpg'):\n",
        "      #lines = file.readlines()\n",
        "      print(f)\n",
        "\n",
        "\n",
        "      # for i in lines:\n",
        "      #   Split_list= i.split(\" \",1)\n",
        "      #   Split_list[0] = Split_list[0].replace('0','7')\n",
        "      #   #print(Split_list)\n",
        "      # # file.close()\n",
        "\n",
        "      # # with open(f,'w+') as file:\n",
        "      # lines = ' '.join(Split_list)\n",
        "      # #print(lines)\n",
        "      # #   #file.truncate(0)\n",
        "      # file.write(lines)"
      ],
      "metadata": {
        "colab": {
          "base_uri": "https://localhost:8080/"
        },
        "id": "SEGiUAMP2ulo",
        "outputId": "eb363d6b-c017-4fdf-d83d-c0ee998a46af"
      },
      "execution_count": null,
      "outputs": [
        {
          "output_type": "stream",
          "name": "stdout",
          "text": [
            "/content/gdrive/MyDrive/Omdena_Ahmedabad/After_Annotations/YOLO_Dataset/ESP_016631_2535_RED-0011-brt.jpg\n",
            "/content/gdrive/MyDrive/Omdena_Ahmedabad/After_Annotations/YOLO_Dataset/ESP_016630_1720_RED-0039.jpg\n",
            "/content/gdrive/MyDrive/Omdena_Ahmedabad/After_Annotations/YOLO_Dataset/ESP_016631_2535_RED-0011-r90.jpg\n",
            "/content/gdrive/MyDrive/Omdena_Ahmedabad/After_Annotations/YOLO_Dataset/ESP_016631_2535_RED-0013-r180.jpg\n",
            "/content/gdrive/MyDrive/Omdena_Ahmedabad/After_Annotations/YOLO_Dataset/ESP_016631_2535_RED-0006-brt.jpg\n",
            "/content/gdrive/MyDrive/Omdena_Ahmedabad/After_Annotations/YOLO_Dataset/ESP_016631_2535_RED-0013.jpg\n",
            "/content/gdrive/MyDrive/Omdena_Ahmedabad/After_Annotations/YOLO_Dataset/ESP_016631_2535_RED-0006.jpg\n",
            "/content/gdrive/MyDrive/Omdena_Ahmedabad/After_Annotations/YOLO_Dataset/ESP_016631_2535_RED-0003.jpg\n",
            "/content/gdrive/MyDrive/Omdena_Ahmedabad/After_Annotations/YOLO_Dataset/ESP_016631_2535_RED-0003-r90.jpg\n",
            "/content/gdrive/MyDrive/Omdena_Ahmedabad/After_Annotations/YOLO_Dataset/ESP_016631_2535_RED-0011-r270.jpg\n",
            "/content/gdrive/MyDrive/Omdena_Ahmedabad/After_Annotations/YOLO_Dataset/ESP_016631_2535_RED-0013-r270.jpg\n",
            "/content/gdrive/MyDrive/Omdena_Ahmedabad/After_Annotations/YOLO_Dataset/ESP_016631_2535_RED-0004-r270.jpg\n",
            "/content/gdrive/MyDrive/Omdena_Ahmedabad/After_Annotations/YOLO_Dataset/ESP_016631_2535_RED-0011-fh.jpg\n",
            "/content/gdrive/MyDrive/Omdena_Ahmedabad/After_Annotations/YOLO_Dataset/ESP_016631_2535_RED-0012-fh.jpg\n",
            "/content/gdrive/MyDrive/Omdena_Ahmedabad/After_Annotations/YOLO_Dataset/ESP_016631_2535_RED-0004-fv.jpg\n",
            "/content/gdrive/MyDrive/Omdena_Ahmedabad/After_Annotations/YOLO_Dataset/ESP_016631_2535_RED-0006-r90.jpg\n",
            "/content/gdrive/MyDrive/Omdena_Ahmedabad/After_Annotations/YOLO_Dataset/ESP_016631_2535_RED-0000-r90.jpg\n",
            "/content/gdrive/MyDrive/Omdena_Ahmedabad/After_Annotations/YOLO_Dataset/ESP_016631_2535_RED-0013-fh.jpg\n",
            "/content/gdrive/MyDrive/Omdena_Ahmedabad/After_Annotations/YOLO_Dataset/ESP_016631_2535_RED-0008-r270.jpg\n",
            "/content/gdrive/MyDrive/Omdena_Ahmedabad/After_Annotations/YOLO_Dataset/ESP_016631_2535_RED-0013-r90.jpg\n",
            "/content/gdrive/MyDrive/Omdena_Ahmedabad/After_Annotations/YOLO_Dataset/ESP_016630_1720_RED-0060-r270.jpg\n",
            "/content/gdrive/MyDrive/Omdena_Ahmedabad/After_Annotations/YOLO_Dataset/ESP_016631_2535_RED-0002.jpg\n",
            "/content/gdrive/MyDrive/Omdena_Ahmedabad/After_Annotations/YOLO_Dataset/ESP_016631_2535_RED-0003-brt.jpg\n",
            "/content/gdrive/MyDrive/Omdena_Ahmedabad/After_Annotations/YOLO_Dataset/ESP_016631_2535_RED-0011-fv.jpg\n",
            "/content/gdrive/MyDrive/Omdena_Ahmedabad/After_Annotations/YOLO_Dataset/ESP_016631_2535_RED-0002-fh.jpg\n",
            "/content/gdrive/MyDrive/Omdena_Ahmedabad/After_Annotations/YOLO_Dataset/ESP_016631_2535_RED-0006-r180.jpg\n",
            "/content/gdrive/MyDrive/Omdena_Ahmedabad/After_Annotations/YOLO_Dataset/ESP_016631_2535_RED-0004-brt.jpg\n",
            "/content/gdrive/MyDrive/Omdena_Ahmedabad/After_Annotations/YOLO_Dataset/ESP_016630_1720_RED-0039-fh.jpg\n",
            "/content/gdrive/MyDrive/Omdena_Ahmedabad/After_Annotations/YOLO_Dataset/ESP_016631_2535_RED-0004-fh.jpg\n",
            "/content/gdrive/MyDrive/Omdena_Ahmedabad/After_Annotations/YOLO_Dataset/ESP_016631_2535_RED-0013-brt.jpg\n",
            "/content/gdrive/MyDrive/Omdena_Ahmedabad/After_Annotations/YOLO_Dataset/ESP_016631_2535_RED-0012-r90.jpg\n",
            "/content/gdrive/MyDrive/Omdena_Ahmedabad/After_Annotations/YOLO_Dataset/ESP_016631_2535_RED-0006-r270.jpg\n",
            "/content/gdrive/MyDrive/Omdena_Ahmedabad/After_Annotations/YOLO_Dataset/ESP_016631_2535_RED-0002-fv.jpg\n",
            "/content/gdrive/MyDrive/Omdena_Ahmedabad/After_Annotations/YOLO_Dataset/ESP_016631_2535_RED-0012-brt.jpg\n",
            "/content/gdrive/MyDrive/Omdena_Ahmedabad/After_Annotations/YOLO_Dataset/ESP_016631_2535_RED-0008-r90.jpg\n",
            "/content/gdrive/MyDrive/Omdena_Ahmedabad/After_Annotations/YOLO_Dataset/ESP_016631_2535_RED-0002-r90.jpg\n",
            "/content/gdrive/MyDrive/Omdena_Ahmedabad/After_Annotations/YOLO_Dataset/ESP_016631_2535_RED-0003-fv.jpg\n",
            "/content/gdrive/MyDrive/Omdena_Ahmedabad/After_Annotations/YOLO_Dataset/ESP_016631_2535_RED-0012-fv.jpg\n",
            "/content/gdrive/MyDrive/Omdena_Ahmedabad/After_Annotations/YOLO_Dataset/ESP_016631_2535_RED-0002-brt.jpg\n",
            "/content/gdrive/MyDrive/Omdena_Ahmedabad/After_Annotations/YOLO_Dataset/ESP_016631_2535_RED-0002-r270.jpg\n",
            "/content/gdrive/MyDrive/Omdena_Ahmedabad/After_Annotations/YOLO_Dataset/ESP_016631_2535_RED-0011-r180.jpg\n",
            "/content/gdrive/MyDrive/Omdena_Ahmedabad/After_Annotations/YOLO_Dataset/ESP_016631_2535_RED-0012.jpg\n",
            "/content/gdrive/MyDrive/Omdena_Ahmedabad/After_Annotations/YOLO_Dataset/ESP_016631_2535_RED-0013-fv.jpg\n",
            "/content/gdrive/MyDrive/Omdena_Ahmedabad/After_Annotations/YOLO_Dataset/ESP_016630_1720_RED-0060-fh.jpg\n",
            "/content/gdrive/MyDrive/Omdena_Ahmedabad/After_Annotations/YOLO_Dataset/ESP_016631_2535_RED-0008.jpg\n",
            "/content/gdrive/MyDrive/Omdena_Ahmedabad/After_Annotations/YOLO_Dataset/ESP_016631_2535_RED-0004-r90.jpg\n",
            "/content/gdrive/MyDrive/Omdena_Ahmedabad/After_Annotations/YOLO_Dataset/ESP_016631_2535_RED-0008-r180.jpg\n",
            "/content/gdrive/MyDrive/Omdena_Ahmedabad/After_Annotations/YOLO_Dataset/ESP_016631_2535_RED-0012-r270.jpg\n",
            "/content/gdrive/MyDrive/Omdena_Ahmedabad/After_Annotations/YOLO_Dataset/ESP_016630_1720_RED-0044-fh.jpg\n",
            "/content/gdrive/MyDrive/Omdena_Ahmedabad/After_Annotations/YOLO_Dataset/ESP_016631_2535_RED-0003-r180.jpg\n",
            "/content/gdrive/MyDrive/Omdena_Ahmedabad/After_Annotations/YOLO_Dataset/ESP_016631_2535_RED-0000.jpg\n",
            "/content/gdrive/MyDrive/Omdena_Ahmedabad/After_Annotations/YOLO_Dataset/ESP_016683_2535_RED-0003-r180.jpg\n",
            "/content/gdrive/MyDrive/Omdena_Ahmedabad/After_Annotations/YOLO_Dataset/ESP_016683_2535_RED-0003.jpg\n",
            "/content/gdrive/MyDrive/Omdena_Ahmedabad/After_Annotations/YOLO_Dataset/ESP_016683_2535_RED-0003-fh.jpg\n",
            "/content/gdrive/MyDrive/Omdena_Ahmedabad/After_Annotations/YOLO_Dataset/ESP_016683_2535_RED-0003-r90.jpg\n",
            "/content/gdrive/MyDrive/Omdena_Ahmedabad/After_Annotations/YOLO_Dataset/ESP_016683_2535_RED-0003-r270.jpg\n",
            "/content/gdrive/MyDrive/Omdena_Ahmedabad/After_Annotations/YOLO_Dataset/ESP_016683_2535_RED-0007-fv.jpg\n",
            "/content/gdrive/MyDrive/Omdena_Ahmedabad/After_Annotations/YOLO_Dataset/ESP_016683_2535_RED-0007-fh.jpg\n",
            "/content/gdrive/MyDrive/Omdena_Ahmedabad/After_Annotations/YOLO_Dataset/ESP_016683_2535_RED-0007-r90.jpg\n",
            "/content/gdrive/MyDrive/Omdena_Ahmedabad/After_Annotations/YOLO_Dataset/ESP_016683_2535_RED-0002.jpg\n",
            "/content/gdrive/MyDrive/Omdena_Ahmedabad/After_Annotations/YOLO_Dataset/ESP_016683_2535_RED-0003-brt.jpg\n",
            "/content/gdrive/MyDrive/Omdena_Ahmedabad/After_Annotations/YOLO_Dataset/ESP_016683_2535_RED-0007-brt.jpg\n",
            "/content/gdrive/MyDrive/Omdena_Ahmedabad/After_Annotations/YOLO_Dataset/ESP_016683_2535_RED-0003-fv.jpg\n",
            "/content/gdrive/MyDrive/Omdena_Ahmedabad/After_Annotations/YOLO_Dataset/ESP_016683_2535_RED-0027-fh.jpg\n",
            "/content/gdrive/MyDrive/Omdena_Ahmedabad/After_Annotations/YOLO_Dataset/ESP_016683_2535_RED-0027-r180.jpg\n",
            "/content/gdrive/MyDrive/Omdena_Ahmedabad/After_Annotations/YOLO_Dataset/ESP_016683_2535_RED-0026-r180.jpg\n",
            "/content/gdrive/MyDrive/Omdena_Ahmedabad/After_Annotations/YOLO_Dataset/ESP_016683_2535_RED-0029-r180.jpg\n",
            "/content/gdrive/MyDrive/Omdena_Ahmedabad/After_Annotations/YOLO_Dataset/ESP_016683_2535_RED-0026-r270.jpg\n",
            "/content/gdrive/MyDrive/Omdena_Ahmedabad/After_Annotations/YOLO_Dataset/ESP_016683_2535_RED-0029-r90.jpg\n",
            "/content/gdrive/MyDrive/Omdena_Ahmedabad/After_Annotations/YOLO_Dataset/ESP_016683_2535_RED-0029-fv.jpg\n",
            "/content/gdrive/MyDrive/Omdena_Ahmedabad/After_Annotations/YOLO_Dataset/ESP_016683_2535_RED-0026.jpg\n",
            "/content/gdrive/MyDrive/Omdena_Ahmedabad/After_Annotations/YOLO_Dataset/ESP_016683_2535_RED-0027-r270.jpg\n",
            "/content/gdrive/MyDrive/Omdena_Ahmedabad/After_Annotations/YOLO_Dataset/ESP_016683_2535_RED-0029-r270.jpg\n",
            "/content/gdrive/MyDrive/Omdena_Ahmedabad/After_Annotations/YOLO_Dataset/ESP_016683_2535_RED-0029-fh.jpg\n",
            "/content/gdrive/MyDrive/Omdena_Ahmedabad/After_Annotations/YOLO_Dataset/ESP_016683_2535_RED-0027-fv.jpg\n",
            "/content/gdrive/MyDrive/Omdena_Ahmedabad/After_Annotations/YOLO_Dataset/ESP_016683_2535_RED-0027-r90.jpg\n",
            "/content/gdrive/MyDrive/Omdena_Ahmedabad/After_Annotations/YOLO_Dataset/ESP_016683_2535_RED-0027.jpg\n",
            "/content/gdrive/MyDrive/Omdena_Ahmedabad/After_Annotations/YOLO_Dataset/ESP_016683_2535_RED-0027-brt.jpg\n",
            "/content/gdrive/MyDrive/Omdena_Ahmedabad/After_Annotations/YOLO_Dataset/ESP_016683_2535_RED-0029-brt.jpg\n",
            "/content/gdrive/MyDrive/Omdena_Ahmedabad/After_Annotations/YOLO_Dataset/ESP_016730_1960_RED-0001.jpg\n",
            "/content/gdrive/MyDrive/Omdena_Ahmedabad/After_Annotations/YOLO_Dataset/ESP_016730_1960_RED-0001-fv.jpg\n",
            "/content/gdrive/MyDrive/Omdena_Ahmedabad/After_Annotations/YOLO_Dataset/ESP_016730_1960_RED-0169-fh.jpg\n",
            "/content/gdrive/MyDrive/Omdena_Ahmedabad/After_Annotations/YOLO_Dataset/ESP_016730_1960_RED-0446-fh.jpg\n",
            "/content/gdrive/MyDrive/Omdena_Ahmedabad/After_Annotations/YOLO_Dataset/ESP_016730_1960_RED-0411.jpg\n",
            "/content/gdrive/MyDrive/Omdena_Ahmedabad/After_Annotations/YOLO_Dataset/ESP_018731_1770_RED-0051.jpg\n",
            "/content/gdrive/MyDrive/Omdena_Ahmedabad/After_Annotations/YOLO_Dataset/ESP_018731_1770_RED-0052.jpg\n",
            "/content/gdrive/MyDrive/Omdena_Ahmedabad/After_Annotations/YOLO_Dataset/ESP_040664_1050_RED-0040.jpg\n",
            "/content/gdrive/MyDrive/Omdena_Ahmedabad/After_Annotations/YOLO_Dataset/ESP_046991_0950_RED-0018.jpg\n",
            "/content/gdrive/MyDrive/Omdena_Ahmedabad/After_Annotations/YOLO_Dataset/ESP_046991_0950_RED-0006.jpg\n",
            "/content/gdrive/MyDrive/Omdena_Ahmedabad/After_Annotations/YOLO_Dataset/ESP_046991_0950_RED-0013.jpg\n",
            "/content/gdrive/MyDrive/Omdena_Ahmedabad/After_Annotations/YOLO_Dataset/ESP_046991_0950_RED-0009.jpg\n",
            "/content/gdrive/MyDrive/Omdena_Ahmedabad/After_Annotations/YOLO_Dataset/ESP_046991_0950_RED-0023.jpg\n",
            "/content/gdrive/MyDrive/Omdena_Ahmedabad/After_Annotations/YOLO_Dataset/ESP_046991_0950_RED-0001.jpg\n",
            "/content/gdrive/MyDrive/Omdena_Ahmedabad/After_Annotations/YOLO_Dataset/ESP_046991_0950_RED-0007.jpg\n",
            "/content/gdrive/MyDrive/Omdena_Ahmedabad/After_Annotations/YOLO_Dataset/ESP_046991_0950_RED-0003.jpg\n",
            "/content/gdrive/MyDrive/Omdena_Ahmedabad/After_Annotations/YOLO_Dataset/ESP_046991_0950_RED-0002.jpg\n",
            "/content/gdrive/MyDrive/Omdena_Ahmedabad/After_Annotations/YOLO_Dataset/ESP_046991_0950_RED-0024.jpg\n",
            "/content/gdrive/MyDrive/Omdena_Ahmedabad/After_Annotations/YOLO_Dataset/ESP_046991_0950_RED-0032.jpg\n",
            "/content/gdrive/MyDrive/Omdena_Ahmedabad/After_Annotations/YOLO_Dataset/ESP_049651_1050_RED-0037.jpg\n",
            "/content/gdrive/MyDrive/Omdena_Ahmedabad/After_Annotations/YOLO_Dataset/ESP_049651_1050_RED-0006.jpg\n",
            "/content/gdrive/MyDrive/Omdena_Ahmedabad/After_Annotations/YOLO_Dataset/ESP_049651_1050_RED-0030.jpg\n",
            "/content/gdrive/MyDrive/Omdena_Ahmedabad/After_Annotations/YOLO_Dataset/ESP_049509_1075_RED-0010.jpg\n",
            "/content/gdrive/MyDrive/Omdena_Ahmedabad/After_Annotations/YOLO_Dataset/ESP_046991_0950_RED-0029.jpg\n",
            "/content/gdrive/MyDrive/Omdena_Ahmedabad/After_Annotations/YOLO_Dataset/ESP_046991_0950_RED-0027.jpg\n",
            "/content/gdrive/MyDrive/Omdena_Ahmedabad/After_Annotations/YOLO_Dataset/ESP_049651_1050_RED-0002.jpg\n",
            "/content/gdrive/MyDrive/Omdena_Ahmedabad/After_Annotations/YOLO_Dataset/PSP_003470_0930_RED-0018.jpg\n",
            "/content/gdrive/MyDrive/Omdena_Ahmedabad/After_Annotations/YOLO_Dataset/PSP_003470_0930_RED-0004.jpg\n",
            "/content/gdrive/MyDrive/Omdena_Ahmedabad/After_Annotations/YOLO_Dataset/PSP_003470_0930_RED-0017.jpg\n",
            "/content/gdrive/MyDrive/Omdena_Ahmedabad/After_Annotations/YOLO_Dataset/ESP_049651_1050_RED-0062.jpg\n",
            "/content/gdrive/MyDrive/Omdena_Ahmedabad/After_Annotations/YOLO_Dataset/ESP_049651_1050_RED-0089.jpg\n",
            "/content/gdrive/MyDrive/Omdena_Ahmedabad/After_Annotations/YOLO_Dataset/PSP_003470_0930_RED-0007.jpg\n",
            "/content/gdrive/MyDrive/Omdena_Ahmedabad/After_Annotations/YOLO_Dataset/ESP_049651_1050_RED-0086.jpg\n",
            "/content/gdrive/MyDrive/Omdena_Ahmedabad/After_Annotations/YOLO_Dataset/ESP_049651_1050_RED-0043.jpg\n",
            "/content/gdrive/MyDrive/Omdena_Ahmedabad/After_Annotations/YOLO_Dataset/ESP_049651_1050_RED-0070.jpg\n",
            "/content/gdrive/MyDrive/Omdena_Ahmedabad/After_Annotations/YOLO_Dataset/ESP_049651_1050_RED-0073.jpg\n",
            "/content/gdrive/MyDrive/Omdena_Ahmedabad/After_Annotations/YOLO_Dataset/ESP_049651_1050_RED-0090.jpg\n",
            "/content/gdrive/MyDrive/Omdena_Ahmedabad/After_Annotations/YOLO_Dataset/PSP_003470_0930_RED-0004-brt.jpg\n",
            "/content/gdrive/MyDrive/Omdena_Ahmedabad/After_Annotations/YOLO_Dataset/PSP_003470_0930_RED-0042.jpg\n",
            "/content/gdrive/MyDrive/Omdena_Ahmedabad/After_Annotations/YOLO_Dataset/PSP_003470_0930_RED-0043.jpg\n",
            "/content/gdrive/MyDrive/Omdena_Ahmedabad/After_Annotations/YOLO_Dataset/PSP_003470_0930_RED-0055.jpg\n",
            "/content/gdrive/MyDrive/Omdena_Ahmedabad/After_Annotations/YOLO_Dataset/PSP_003470_0930_RED-0041.jpg\n",
            "/content/gdrive/MyDrive/Omdena_Ahmedabad/After_Annotations/YOLO_Dataset/PSP_003470_0930_RED-0035.jpg\n",
            "/content/gdrive/MyDrive/Omdena_Ahmedabad/After_Annotations/YOLO_Dataset/PSP_003470_0930_RED-0033.jpg\n",
            "/content/gdrive/MyDrive/Omdena_Ahmedabad/After_Annotations/YOLO_Dataset/PSP_003470_0930_RED-0051.jpg\n",
            "/content/gdrive/MyDrive/Omdena_Ahmedabad/After_Annotations/YOLO_Dataset/PSP_003470_0930_RED-0039.jpg\n",
            "/content/gdrive/MyDrive/Omdena_Ahmedabad/After_Annotations/YOLO_Dataset/PSP_003470_0930_RED-0036.jpg\n",
            "/content/gdrive/MyDrive/Omdena_Ahmedabad/After_Annotations/YOLO_Dataset/PSP_003470_0930_RED-0023.jpg\n",
            "/content/gdrive/MyDrive/Omdena_Ahmedabad/After_Annotations/YOLO_Dataset/PSP_003470_0930_RED-0034.jpg\n",
            "/content/gdrive/MyDrive/Omdena_Ahmedabad/After_Annotations/YOLO_Dataset/PSP_003470_0930_RED-0040.jpg\n",
            "/content/gdrive/MyDrive/Omdena_Ahmedabad/After_Annotations/YOLO_Dataset/PSP_003470_0930_RED-0057.jpg\n",
            "/content/gdrive/MyDrive/Omdena_Ahmedabad/After_Annotations/YOLO_Dataset/PSP_003470_0930_RED-0094.jpg\n",
            "/content/gdrive/MyDrive/Omdena_Ahmedabad/After_Annotations/YOLO_Dataset/PSP_003470_0930_RED-0073.jpg\n",
            "/content/gdrive/MyDrive/Omdena_Ahmedabad/After_Annotations/YOLO_Dataset/PSP_003470_0930_RED-0072.jpg\n",
            "/content/gdrive/MyDrive/Omdena_Ahmedabad/After_Annotations/YOLO_Dataset/PSP_003470_0930_RED-0099.jpg\n",
            "/content/gdrive/MyDrive/Omdena_Ahmedabad/After_Annotations/YOLO_Dataset/PSP_003470_0930_RED-0106.jpg\n",
            "/content/gdrive/MyDrive/Omdena_Ahmedabad/After_Annotations/YOLO_Dataset/PSP_003470_0930_RED-0075.jpg\n",
            "/content/gdrive/MyDrive/Omdena_Ahmedabad/After_Annotations/YOLO_Dataset/PSP_003470_0930_RED-0090.jpg\n",
            "/content/gdrive/MyDrive/Omdena_Ahmedabad/After_Annotations/YOLO_Dataset/PSP_003470_0930_RED-0059.jpg\n",
            "/content/gdrive/MyDrive/Omdena_Ahmedabad/After_Annotations/YOLO_Dataset/PSP_003470_0930_RED-0080.jpg\n",
            "/content/gdrive/MyDrive/Omdena_Ahmedabad/After_Annotations/YOLO_Dataset/PSP_003470_0930_RED-0105.jpg\n",
            "/content/gdrive/MyDrive/Omdena_Ahmedabad/After_Annotations/YOLO_Dataset/PSP_003470_0930_RED-0069.jpg\n",
            "/content/gdrive/MyDrive/Omdena_Ahmedabad/After_Annotations/YOLO_Dataset/PSP_003470_0930_RED-0070.jpg\n",
            "/content/gdrive/MyDrive/Omdena_Ahmedabad/After_Annotations/YOLO_Dataset/PSP_003470_0930_RED-0067.jpg\n",
            "/content/gdrive/MyDrive/Omdena_Ahmedabad/After_Annotations/YOLO_Dataset/PSP_003470_0930_RED-0086.jpg\n",
            "/content/gdrive/MyDrive/Omdena_Ahmedabad/After_Annotations/YOLO_Dataset/PSP_003470_0930_RED-0110.jpg\n",
            "/content/gdrive/MyDrive/Omdena_Ahmedabad/After_Annotations/YOLO_Dataset/PSP_003470_0930_RED-0116.jpg\n",
            "/content/gdrive/MyDrive/Omdena_Ahmedabad/After_Annotations/YOLO_Dataset/PSP_003470_0930_RED-0114.jpg\n",
            "/content/gdrive/MyDrive/Omdena_Ahmedabad/After_Annotations/YOLO_Dataset/PSP_003470_0930_RED-0143.jpg\n",
            "/content/gdrive/MyDrive/Omdena_Ahmedabad/After_Annotations/YOLO_Dataset/PSP_003470_0930_RED-0113.jpg\n",
            "/content/gdrive/MyDrive/Omdena_Ahmedabad/After_Annotations/YOLO_Dataset/PSP_003470_0930_RED-0109.jpg\n",
            "/content/gdrive/MyDrive/Omdena_Ahmedabad/After_Annotations/YOLO_Dataset/PSP_003470_0930_RED-0127.jpg\n",
            "/content/gdrive/MyDrive/Omdena_Ahmedabad/After_Annotations/YOLO_Dataset/PSP_003470_0930_RED-0131.jpg\n",
            "/content/gdrive/MyDrive/Omdena_Ahmedabad/After_Annotations/YOLO_Dataset/PSP_003470_0930_RED-0144.jpg\n",
            "/content/gdrive/MyDrive/Omdena_Ahmedabad/After_Annotations/YOLO_Dataset/PSP_003470_0930_RED-0148.jpg\n",
            "/content/gdrive/MyDrive/Omdena_Ahmedabad/After_Annotations/YOLO_Dataset/PSP_003470_0930_RED-0146.jpg\n",
            "/content/gdrive/MyDrive/Omdena_Ahmedabad/After_Annotations/YOLO_Dataset/ESP_011881_1585_RED-0068-fh.jpg\n",
            "/content/gdrive/MyDrive/Omdena_Ahmedabad/After_Annotations/YOLO_Dataset/ESP_011881_1585_RED-0126-r90.jpg\n",
            "/content/gdrive/MyDrive/Omdena_Ahmedabad/After_Annotations/YOLO_Dataset/ESP_011881_1585_RED-0068-r90.jpg\n",
            "/content/gdrive/MyDrive/Omdena_Ahmedabad/After_Annotations/YOLO_Dataset/ESP_011881_1585_RED-0068-brt.jpg\n",
            "/content/gdrive/MyDrive/Omdena_Ahmedabad/After_Annotations/YOLO_Dataset/ESP_011881_1585_RED-0090-fv.jpg\n",
            "/content/gdrive/MyDrive/Omdena_Ahmedabad/After_Annotations/YOLO_Dataset/ESP_016151_1445_RED-0173-r270.jpg\n",
            "/content/gdrive/MyDrive/Omdena_Ahmedabad/After_Annotations/YOLO_Dataset/ESP_016530_1465_RED-0017-fv.jpg\n",
            "/content/gdrive/MyDrive/Omdena_Ahmedabad/After_Annotations/YOLO_Dataset/ESP_016530_1465_RED-0040.jpg\n",
            "/content/gdrive/MyDrive/Omdena_Ahmedabad/After_Annotations/YOLO_Dataset/ESP_016530_1465_RED-0050-fv.jpg\n",
            "/content/gdrive/MyDrive/Omdena_Ahmedabad/After_Annotations/YOLO_Dataset/ESP_016802_2190_RED-0131-r270.jpg\n",
            "/content/gdrive/MyDrive/Omdena_Ahmedabad/After_Annotations/YOLO_Dataset/ESP_016802_2190_RED-0077-r90.jpg\n",
            "/content/gdrive/MyDrive/Omdena_Ahmedabad/After_Annotations/YOLO_Dataset/ESP_016802_2190_RED-0106-brt.jpg\n",
            "/content/gdrive/MyDrive/Omdena_Ahmedabad/After_Annotations/YOLO_Dataset/ESP_016802_2190_RED-0097-r180.jpg\n",
            "/content/gdrive/MyDrive/Omdena_Ahmedabad/After_Annotations/YOLO_Dataset/ESP_016802_2190_RED-0163-fv.jpg\n",
            "/content/gdrive/MyDrive/Omdena_Ahmedabad/After_Annotations/YOLO_Dataset/ESP_017541_1600_RED-0078-fv.jpg\n",
            "/content/gdrive/MyDrive/Omdena_Ahmedabad/After_Annotations/YOLO_Dataset/ESP_017541_1600_RED-0207.jpg\n",
            "/content/gdrive/MyDrive/Omdena_Ahmedabad/After_Annotations/YOLO_Dataset/ESP_017541_1600_RED-0207-r180.jpg\n",
            "/content/gdrive/MyDrive/Omdena_Ahmedabad/After_Annotations/YOLO_Dataset/ESP_017541_1600_RED-0417-fh.jpg\n",
            "/content/gdrive/MyDrive/Omdena_Ahmedabad/After_Annotations/YOLO_Dataset/ESP_020133_1720_RED-0054-brt.jpg\n",
            "/content/gdrive/MyDrive/Omdena_Ahmedabad/After_Annotations/YOLO_Dataset/ESP_020133_1720_RED-0054-r90.jpg\n",
            "/content/gdrive/MyDrive/Omdena_Ahmedabad/After_Annotations/YOLO_Dataset/ESP_020606_1445_RED-0041-fv.jpg\n",
            "/content/gdrive/MyDrive/Omdena_Ahmedabad/After_Annotations/YOLO_Dataset/ESP_020606_1445_RED-0065-brt.jpg\n",
            "/content/gdrive/MyDrive/Omdena_Ahmedabad/After_Annotations/YOLO_Dataset/ESP_020606_1445_RED-0129-r180.jpg\n",
            "/content/gdrive/MyDrive/Omdena_Ahmedabad/After_Annotations/YOLO_Dataset/ESP_020606_1445_RED-0129.jpg\n",
            "/content/gdrive/MyDrive/Omdena_Ahmedabad/After_Annotations/YOLO_Dataset/ESP_020606_1445_RED-0209-r90.jpg\n",
            "/content/gdrive/MyDrive/Omdena_Ahmedabad/After_Annotations/YOLO_Dataset/ESP_020606_1445_RED-0169-r270.jpg\n",
            "/content/gdrive/MyDrive/Omdena_Ahmedabad/After_Annotations/YOLO_Dataset/ESP_020606_1445_RED-0239-r270.jpg\n",
            "/content/gdrive/MyDrive/Omdena_Ahmedabad/After_Annotations/YOLO_Dataset/ESP_020606_1445_RED-0408-brt.jpg\n",
            "/content/gdrive/MyDrive/Omdena_Ahmedabad/After_Annotations/YOLO_Dataset/ESP_020606_1445_RED-0510.jpg\n",
            "/content/gdrive/MyDrive/Omdena_Ahmedabad/After_Annotations/YOLO_Dataset/ESP_020606_1445_RED-0538.jpg\n",
            "/content/gdrive/MyDrive/Omdena_Ahmedabad/After_Annotations/YOLO_Dataset/ESP_020606_1445_RED-0575-r180.jpg\n",
            "/content/gdrive/MyDrive/Omdena_Ahmedabad/After_Annotations/YOLO_Dataset/ESP_020606_1445_RED-0664-r90.jpg\n",
            "/content/gdrive/MyDrive/Omdena_Ahmedabad/After_Annotations/YOLO_Dataset/ESP_020606_1445_RED-0664-brt.jpg\n",
            "/content/gdrive/MyDrive/Omdena_Ahmedabad/After_Annotations/YOLO_Dataset/ESP_020606_1445_RED-0856.jpg\n",
            "/content/gdrive/MyDrive/Omdena_Ahmedabad/After_Annotations/YOLO_Dataset/ESP_026247_1650_RED-0270.jpg\n",
            "/content/gdrive/MyDrive/Omdena_Ahmedabad/After_Annotations/YOLO_Dataset/ESP_026472_1410_RED-0015.jpg\n",
            "/content/gdrive/MyDrive/Omdena_Ahmedabad/After_Annotations/YOLO_Dataset/ESP_026472_1410_RED-0107-fv.jpg\n",
            "/content/gdrive/MyDrive/Omdena_Ahmedabad/After_Annotations/YOLO_Dataset/ESP_026472_1410_RED-0109-r270.jpg\n",
            "/content/gdrive/MyDrive/Omdena_Ahmedabad/After_Annotations/YOLO_Dataset/ESP_026472_1410_RED-0134-r180.jpg\n",
            "/content/gdrive/MyDrive/Omdena_Ahmedabad/After_Annotations/YOLO_Dataset/ESP_026472_1410_RED-0162.jpg\n",
            "/content/gdrive/MyDrive/Omdena_Ahmedabad/After_Annotations/YOLO_Dataset/ESP_026472_1410_RED-0142-r180.jpg\n",
            "/content/gdrive/MyDrive/Omdena_Ahmedabad/After_Annotations/YOLO_Dataset/ESP_026472_1410_RED-0220-fv.jpg\n",
            "/content/gdrive/MyDrive/Omdena_Ahmedabad/After_Annotations/YOLO_Dataset/ESP_026472_1410_RED-0289-r270.jpg\n",
            "/content/gdrive/MyDrive/Omdena_Ahmedabad/After_Annotations/YOLO_Dataset/ESP_026472_1410_RED-0248-fh.jpg\n",
            "/content/gdrive/MyDrive/Omdena_Ahmedabad/After_Annotations/YOLO_Dataset/ESP_026472_1410_RED-0287-r90.jpg\n",
            "/content/gdrive/MyDrive/Omdena_Ahmedabad/After_Annotations/YOLO_Dataset/ESP_026472_1410_RED-0253-r270.jpg\n",
            "/content/gdrive/MyDrive/Omdena_Ahmedabad/After_Annotations/YOLO_Dataset/ESP_026472_1410_RED-0312-r90.jpg\n",
            "/content/gdrive/MyDrive/Omdena_Ahmedabad/After_Annotations/YOLO_Dataset/ESP_026472_1410_RED-0366-r180.jpg\n",
            "/content/gdrive/MyDrive/Omdena_Ahmedabad/After_Annotations/YOLO_Dataset/ESP_028196_1840_RED-0353-r180.jpg\n",
            "/content/gdrive/MyDrive/Omdena_Ahmedabad/After_Annotations/YOLO_Dataset/ESP_028196_1840_RED-0430.jpg\n",
            "/content/gdrive/MyDrive/Omdena_Ahmedabad/After_Annotations/YOLO_Dataset/ESP_028196_1840_RED-0506-fv.jpg\n",
            "/content/gdrive/MyDrive/Omdena_Ahmedabad/After_Annotations/YOLO_Dataset/ESP_016715_2025_RED-0060-fv.jpg\n",
            "/content/gdrive/MyDrive/Omdena_Ahmedabad/After_Annotations/YOLO_Dataset/ESP_012687_1930_RED-0056-fv.jpg\n",
            "/content/gdrive/MyDrive/Omdena_Ahmedabad/After_Annotations/YOLO_Dataset/ESP_016715_2025_RED-0092-r270.jpg\n",
            "/content/gdrive/MyDrive/Omdena_Ahmedabad/After_Annotations/YOLO_Dataset/ESP_019781_1945_RED-0085-r270.jpg\n",
            "/content/gdrive/MyDrive/Omdena_Ahmedabad/After_Annotations/YOLO_Dataset/ESP_012700_2025_RED-0016.jpg\n",
            "/content/gdrive/MyDrive/Omdena_Ahmedabad/After_Annotations/YOLO_Dataset/ESP_016607_2080_RED-0261-fh.jpg\n",
            "/content/gdrive/MyDrive/Omdena_Ahmedabad/After_Annotations/YOLO_Dataset/ESP_016781_2055_RED-0188.jpg\n",
            "/content/gdrive/MyDrive/Omdena_Ahmedabad/After_Annotations/YOLO_Dataset/ESP_016781_2055_RED-0065-fh.jpg\n",
            "/content/gdrive/MyDrive/Omdena_Ahmedabad/After_Annotations/YOLO_Dataset/ESP_016715_2025_RED-0108-r270.jpg\n",
            "/content/gdrive/MyDrive/Omdena_Ahmedabad/After_Annotations/YOLO_Dataset/ESP_019011_2245_RED-0552-r180.jpg\n",
            "/content/gdrive/MyDrive/Omdena_Ahmedabad/After_Annotations/YOLO_Dataset/ESP_018416_2060_RED-0238-brt.jpg\n",
            "/content/gdrive/MyDrive/Omdena_Ahmedabad/After_Annotations/YOLO_Dataset/ESP_013141_2105_RED-0070-r90.jpg\n",
            "/content/gdrive/MyDrive/Omdena_Ahmedabad/After_Annotations/YOLO_Dataset/ESP_016781_2055_RED-0113-r270.jpg\n",
            "/content/gdrive/MyDrive/Omdena_Ahmedabad/After_Annotations/YOLO_Dataset/ESP_019011_2245_RED-0552-brt.jpg\n",
            "/content/gdrive/MyDrive/Omdena_Ahmedabad/After_Annotations/YOLO_Dataset/ESP_016607_2080_RED-0190-r270.jpg\n",
            "/content/gdrive/MyDrive/Omdena_Ahmedabad/After_Annotations/YOLO_Dataset/ESP_016730_1960_RED-0345-fv.jpg\n",
            "/content/gdrive/MyDrive/Omdena_Ahmedabad/After_Annotations/YOLO_Dataset/ESP_018840_1865_RED-0058.jpg\n",
            "/content/gdrive/MyDrive/Omdena_Ahmedabad/After_Annotations/YOLO_Dataset/ESP_016715_2025_RED-0104-fh.jpg\n",
            "/content/gdrive/MyDrive/Omdena_Ahmedabad/After_Annotations/YOLO_Dataset/ESP_016773_2010_RED-0041-r270.jpg\n",
            "/content/gdrive/MyDrive/Omdena_Ahmedabad/After_Annotations/YOLO_Dataset/ESP_013788_1910_RED-0281.jpg\n",
            "/content/gdrive/MyDrive/Omdena_Ahmedabad/After_Annotations/YOLO_Dataset/ESP_016781_2055_RED-0065-r180.jpg\n",
            "/content/gdrive/MyDrive/Omdena_Ahmedabad/After_Annotations/YOLO_Dataset/ESP_016781_2055_RED-0079-r90.jpg\n",
            "/content/gdrive/MyDrive/Omdena_Ahmedabad/After_Annotations/YOLO_Dataset/ESP_016148_2040_RED-0222-fv.jpg\n",
            "/content/gdrive/MyDrive/Omdena_Ahmedabad/After_Annotations/YOLO_Dataset/ESP_016781_2055_RED-0201.jpg\n",
            "/content/gdrive/MyDrive/Omdena_Ahmedabad/After_Annotations/YOLO_Dataset/ESP_012700_2025_RED-0031-r180.jpg\n",
            "/content/gdrive/MyDrive/Omdena_Ahmedabad/After_Annotations/YOLO_Dataset/ESP_012687_1930_RED-0043-fh.jpg\n",
            "/content/gdrive/MyDrive/Omdena_Ahmedabad/After_Annotations/YOLO_Dataset/ESP_018840_1865_RED-0013-fh.jpg\n",
            "/content/gdrive/MyDrive/Omdena_Ahmedabad/After_Annotations/YOLO_Dataset/ESP_018929_1830_RED-0166-fh.jpg\n",
            "/content/gdrive/MyDrive/Omdena_Ahmedabad/After_Annotations/YOLO_Dataset/ESP_016715_2025_RED-0108-fh.jpg\n",
            "/content/gdrive/MyDrive/Omdena_Ahmedabad/After_Annotations/YOLO_Dataset/ESP_013141_2105_RED-0070-r180.jpg\n",
            "/content/gdrive/MyDrive/Omdena_Ahmedabad/After_Annotations/YOLO_Dataset/ESP_018840_1865_RED-0060-brt.jpg\n",
            "/content/gdrive/MyDrive/Omdena_Ahmedabad/After_Annotations/YOLO_Dataset/ESP_016781_2055_RED-0113-fv.jpg\n",
            "/content/gdrive/MyDrive/Omdena_Ahmedabad/After_Annotations/YOLO_Dataset/ESP_012971_2015_RED-0148-brt.jpg\n",
            "/content/gdrive/MyDrive/Omdena_Ahmedabad/After_Annotations/YOLO_Dataset/ESP_016781_2055_RED-0235-r270.jpg\n",
            "/content/gdrive/MyDrive/Omdena_Ahmedabad/After_Annotations/YOLO_Dataset/ESP_018416_2060_RED-0147-r90.jpg\n",
            "/content/gdrive/MyDrive/Omdena_Ahmedabad/After_Annotations/YOLO_Dataset/ESP_013161_1715_RED-0065-fv.jpg\n",
            "/content/gdrive/MyDrive/Omdena_Ahmedabad/After_Annotations/YOLO_Dataset/ESP_020421_1810_RED-0055.jpg\n",
            "/content/gdrive/MyDrive/Omdena_Ahmedabad/After_Annotations/YOLO_Dataset/ESP_016715_2025_RED-0100-r90.jpg\n",
            "/content/gdrive/MyDrive/Omdena_Ahmedabad/After_Annotations/YOLO_Dataset/ESP_013141_2105_RED-0069-brt.jpg\n",
            "/content/gdrive/MyDrive/Omdena_Ahmedabad/After_Annotations/YOLO_Dataset/ESP_016148_2040_RED-0010.jpg\n",
            "/content/gdrive/MyDrive/Omdena_Ahmedabad/After_Annotations/YOLO_Dataset/ESP_019781_1945_RED-0085-fh.jpg\n",
            "/content/gdrive/MyDrive/Omdena_Ahmedabad/After_Annotations/YOLO_Dataset/ESP_016781_2055_RED-0241-brt.jpg\n",
            "/content/gdrive/MyDrive/Omdena_Ahmedabad/After_Annotations/YOLO_Dataset/ESP_018840_1865_RED-0058-fh.jpg\n",
            "/content/gdrive/MyDrive/Omdena_Ahmedabad/After_Annotations/YOLO_Dataset/ESP_012687_1930_RED-0041.jpg\n",
            "/content/gdrive/MyDrive/Omdena_Ahmedabad/After_Annotations/YOLO_Dataset/ESP_016148_2040_RED-0154-r180.jpg\n",
            "/content/gdrive/MyDrive/Omdena_Ahmedabad/After_Annotations/YOLO_Dataset/ESP_016781_2055_RED-0024-r90.jpg\n",
            "/content/gdrive/MyDrive/Omdena_Ahmedabad/After_Annotations/YOLO_Dataset/ESP_016781_2055_RED-0146-fv.jpg\n",
            "/content/gdrive/MyDrive/Omdena_Ahmedabad/After_Annotations/YOLO_Dataset/ESP_016781_2055_RED-0016.jpg\n",
            "/content/gdrive/MyDrive/Omdena_Ahmedabad/After_Annotations/YOLO_Dataset/ESP_018192_1985_RED-0385-r180.jpg\n",
            "/content/gdrive/MyDrive/Omdena_Ahmedabad/After_Annotations/YOLO_Dataset/ESP_012687_1930_RED-0043-r270.jpg\n",
            "/content/gdrive/MyDrive/Omdena_Ahmedabad/After_Annotations/YOLO_Dataset/ESP_016781_2055_RED-0024-r270.jpg\n",
            "/content/gdrive/MyDrive/Omdena_Ahmedabad/After_Annotations/YOLO_Dataset/ESP_016148_2040_RED-0022-r270.jpg\n",
            "/content/gdrive/MyDrive/Omdena_Ahmedabad/After_Annotations/YOLO_Dataset/ESP_018416_2060_RED-0207-brt.jpg\n",
            "/content/gdrive/MyDrive/Omdena_Ahmedabad/After_Annotations/YOLO_Dataset/ESP_012971_2015_RED-0436-brt.jpg\n",
            "/content/gdrive/MyDrive/Omdena_Ahmedabad/After_Annotations/YOLO_Dataset/ESP_013161_1715_RED-0058-fh.jpg\n",
            "/content/gdrive/MyDrive/Omdena_Ahmedabad/After_Annotations/YOLO_Dataset/ESP_016730_1960_RED-0503-r270.jpg\n",
            "/content/gdrive/MyDrive/Omdena_Ahmedabad/After_Annotations/YOLO_Dataset/ESP_020421_1810_RED-0041-r180.jpg\n",
            "/content/gdrive/MyDrive/Omdena_Ahmedabad/After_Annotations/YOLO_Dataset/ESP_018840_1865_RED-0059.jpg\n",
            "/content/gdrive/MyDrive/Omdena_Ahmedabad/After_Annotations/YOLO_Dataset/ESP_012687_1930_RED-0036-brt.jpg\n",
            "/content/gdrive/MyDrive/Omdena_Ahmedabad/After_Annotations/YOLO_Dataset/ESP_018416_2060_RED-0266.jpg\n",
            "/content/gdrive/MyDrive/Omdena_Ahmedabad/After_Annotations/YOLO_Dataset/ESP_016715_2025_RED-0100-r180.jpg\n",
            "/content/gdrive/MyDrive/Omdena_Ahmedabad/After_Annotations/YOLO_Dataset/ESP_018784_2050_RED-0147-r90.jpg\n",
            "/content/gdrive/MyDrive/Omdena_Ahmedabad/After_Annotations/YOLO_Dataset/ESP_016715_2025_RED-0057-r90.jpg\n",
            "/content/gdrive/MyDrive/Omdena_Ahmedabad/After_Annotations/YOLO_Dataset/ESP_018299_2245_RED-0193-r90.jpg\n",
            "/content/gdrive/MyDrive/Omdena_Ahmedabad/After_Annotations/YOLO_Dataset/ESP_018929_1830_RED-0166-r180.jpg\n",
            "/content/gdrive/MyDrive/Omdena_Ahmedabad/After_Annotations/YOLO_Dataset/ESP_011289_1950_RED-0200-r90.jpg\n",
            "/content/gdrive/MyDrive/Omdena_Ahmedabad/After_Annotations/YOLO_Dataset/ESP_012687_1930_RED-0079-fh.jpg\n",
            "/content/gdrive/MyDrive/Omdena_Ahmedabad/After_Annotations/YOLO_Dataset/ESP_019781_1945_RED-0085-brt.jpg\n",
            "/content/gdrive/MyDrive/Omdena_Ahmedabad/After_Annotations/YOLO_Dataset/ESP_016781_2055_RED-0188-r180.jpg\n",
            "/content/gdrive/MyDrive/Omdena_Ahmedabad/After_Annotations/YOLO_Dataset/ESP_016715_2025_RED-0077-r270.jpg\n",
            "/content/gdrive/MyDrive/Omdena_Ahmedabad/After_Annotations/YOLO_Dataset/ESP_011425_1775_RED-0060-fh.jpg\n",
            "/content/gdrive/MyDrive/Omdena_Ahmedabad/After_Annotations/YOLO_Dataset/ESP_019011_2245_RED-0552-r90.jpg\n",
            "/content/gdrive/MyDrive/Omdena_Ahmedabad/After_Annotations/YOLO_Dataset/ESP_013141_2105_RED-0172-r180.jpg\n",
            "/content/gdrive/MyDrive/Omdena_Ahmedabad/After_Annotations/YOLO_Dataset/ESP_016781_2055_RED-0241-r180.jpg\n",
            "/content/gdrive/MyDrive/Omdena_Ahmedabad/After_Annotations/YOLO_Dataset/ESP_012687_1930_RED-0041-r180.jpg\n",
            "/content/gdrive/MyDrive/Omdena_Ahmedabad/After_Annotations/YOLO_Dataset/ESP_016781_2055_RED-0240-r180.jpg\n",
            "/content/gdrive/MyDrive/Omdena_Ahmedabad/After_Annotations/YOLO_Dataset/ESP_016570_2050_RED-0106-fh.jpg\n",
            "/content/gdrive/MyDrive/Omdena_Ahmedabad/After_Annotations/YOLO_Dataset/ESP_016715_2025_RED-0042-r270.jpg\n",
            "/content/gdrive/MyDrive/Omdena_Ahmedabad/After_Annotations/YOLO_Dataset/ESP_019781_1945_RED-0064.jpg\n",
            "/content/gdrive/MyDrive/Omdena_Ahmedabad/After_Annotations/YOLO_Dataset/ESP_013141_2105_RED-0051-fv.jpg\n",
            "/content/gdrive/MyDrive/Omdena_Ahmedabad/After_Annotations/YOLO_Dataset/ESP_019781_1945_RED-0070.jpg\n",
            "/content/gdrive/MyDrive/Omdena_Ahmedabad/After_Annotations/YOLO_Dataset/ESP_013141_2105_RED-0070-brt.jpg\n",
            "/content/gdrive/MyDrive/Omdena_Ahmedabad/After_Annotations/YOLO_Dataset/ESP_018416_2060_RED-0238-r90.jpg\n",
            "/content/gdrive/MyDrive/Omdena_Ahmedabad/After_Annotations/YOLO_Dataset/ESP_012971_2015_RED-0217-fv.jpg\n",
            "/content/gdrive/MyDrive/Omdena_Ahmedabad/After_Annotations/YOLO_Dataset/ESP_019133_1975_RED-0002-r270.jpg\n",
            "/content/gdrive/MyDrive/Omdena_Ahmedabad/After_Annotations/YOLO_Dataset/ESP_016715_2025_RED-0100-brt.jpg\n",
            "/content/gdrive/MyDrive/Omdena_Ahmedabad/After_Annotations/YOLO_Dataset/ESP_016781_2055_RED-0188-fh.jpg\n",
            "/content/gdrive/MyDrive/Omdena_Ahmedabad/After_Annotations/YOLO_Dataset/ESP_019781_1945_RED-0064-fh.jpg\n",
            "/content/gdrive/MyDrive/Omdena_Ahmedabad/After_Annotations/YOLO_Dataset/ESP_016148_2040_RED-0010-fh.jpg\n",
            "/content/gdrive/MyDrive/Omdena_Ahmedabad/After_Annotations/YOLO_Dataset/ESP_018493_1925_RED-0290-r270.jpg\n",
            "/content/gdrive/MyDrive/Omdena_Ahmedabad/After_Annotations/YOLO_Dataset/ESP_011289_1950_RED-0198.jpg\n",
            "/content/gdrive/MyDrive/Omdena_Ahmedabad/After_Annotations/YOLO_Dataset/ESP_018416_2060_RED-0147-brt.jpg\n",
            "/content/gdrive/MyDrive/Omdena_Ahmedabad/After_Annotations/YOLO_Dataset/ESP_016730_1960_RED-0345-r270.jpg\n",
            "/content/gdrive/MyDrive/Omdena_Ahmedabad/After_Annotations/YOLO_Dataset/ESP_019781_1945_RED-0104.jpg\n",
            "/content/gdrive/MyDrive/Omdena_Ahmedabad/After_Annotations/YOLO_Dataset/ESP_012971_2015_RED-0148-r90.jpg\n",
            "/content/gdrive/MyDrive/Omdena_Ahmedabad/After_Annotations/YOLO_Dataset/ESP_013788_1910_RED-0281-r180.jpg\n",
            "/content/gdrive/MyDrive/Omdena_Ahmedabad/After_Annotations/YOLO_Dataset/ESP_013141_2105_RED-0069-r90.jpg\n",
            "/content/gdrive/MyDrive/Omdena_Ahmedabad/After_Annotations/YOLO_Dataset/ESP_012700_2025_RED-0072-r180.jpg\n",
            "/content/gdrive/MyDrive/Omdena_Ahmedabad/After_Annotations/YOLO_Dataset/ESP_016781_2055_RED-0245-fv.jpg\n",
            "/content/gdrive/MyDrive/Omdena_Ahmedabad/After_Annotations/YOLO_Dataset/ESP_019011_2245_RED-0552-fv.jpg\n",
            "/content/gdrive/MyDrive/Omdena_Ahmedabad/After_Annotations/YOLO_Dataset/ESP_016781_2055_RED-0028.jpg\n",
            "/content/gdrive/MyDrive/Omdena_Ahmedabad/After_Annotations/YOLO_Dataset/ESP_012700_2025_RED-0031-fh.jpg\n",
            "/content/gdrive/MyDrive/Omdena_Ahmedabad/After_Annotations/YOLO_Dataset/ESP_016781_2055_RED-0079-brt.jpg\n",
            "/content/gdrive/MyDrive/Omdena_Ahmedabad/After_Annotations/YOLO_Dataset/ESP_018416_2060_RED-0147-fv.jpg\n",
            "/content/gdrive/MyDrive/Omdena_Ahmedabad/After_Annotations/YOLO_Dataset/ESP_012687_1930_RED-0100-r180.jpg\n",
            "/content/gdrive/MyDrive/Omdena_Ahmedabad/After_Annotations/YOLO_Dataset/ESP_012588_1855_RED-0228.jpg\n",
            "/content/gdrive/MyDrive/Omdena_Ahmedabad/After_Annotations/YOLO_Dataset/ESP_016715_2025_RED-0092.jpg\n",
            "/content/gdrive/MyDrive/Omdena_Ahmedabad/After_Annotations/YOLO_Dataset/ESP_018840_1865_RED-0060-r90.jpg\n",
            "/content/gdrive/MyDrive/Omdena_Ahmedabad/After_Annotations/YOLO_Dataset/ESP_012687_1930_RED-0043.jpg\n",
            "/content/gdrive/MyDrive/Omdena_Ahmedabad/After_Annotations/YOLO_Dataset/ESP_019340_1875_RED-0137-r270.jpg\n",
            "/content/gdrive/MyDrive/Omdena_Ahmedabad/After_Annotations/YOLO_Dataset/ESP_018416_2060_RED-0207-r90.jpg\n",
            "/content/gdrive/MyDrive/Omdena_Ahmedabad/After_Annotations/YOLO_Dataset/ESP_016781_2055_RED-0201-r270.jpg\n",
            "/content/gdrive/MyDrive/Omdena_Ahmedabad/After_Annotations/YOLO_Dataset/ESP_012687_1930_RED-0056.jpg\n",
            "/content/gdrive/MyDrive/Omdena_Ahmedabad/After_Annotations/YOLO_Dataset/ESP_012971_2015_RED-0436-r90.jpg\n",
            "/content/gdrive/MyDrive/Omdena_Ahmedabad/After_Annotations/YOLO_Dataset/ESP_019340_1875_RED-0049-r270.jpg\n",
            "/content/gdrive/MyDrive/Omdena_Ahmedabad/After_Annotations/YOLO_Dataset/ESP_018416_2060_RED-0115-fh.jpg\n",
            "/content/gdrive/MyDrive/Omdena_Ahmedabad/After_Annotations/YOLO_Dataset/ESP_019340_1875_RED-0024-fh.jpg\n",
            "/content/gdrive/MyDrive/Omdena_Ahmedabad/After_Annotations/YOLO_Dataset/ESP_019340_1875_RED-0137.jpg\n",
            "/content/gdrive/MyDrive/Omdena_Ahmedabad/After_Annotations/YOLO_Dataset/ESP_016781_2055_RED-0024-brt.jpg\n",
            "/content/gdrive/MyDrive/Omdena_Ahmedabad/After_Annotations/YOLO_Dataset/ESP_012810_0925_RED-0095-fv.jpg\n",
            "/content/gdrive/MyDrive/Omdena_Ahmedabad/After_Annotations/YOLO_Dataset/ESP_012810_0925_RED-0010-fh.jpg\n",
            "/content/gdrive/MyDrive/Omdena_Ahmedabad/After_Annotations/YOLO_Dataset/ESP_012810_0925_RED-0107.jpg\n",
            "/content/gdrive/MyDrive/Omdena_Ahmedabad/After_Annotations/YOLO_Dataset/ESP_012810_0925_RED-0113.jpg\n",
            "/content/gdrive/MyDrive/Omdena_Ahmedabad/After_Annotations/YOLO_Dataset/ESP_012810_0925_RED-0160-r90.jpg\n",
            "/content/gdrive/MyDrive/Omdena_Ahmedabad/After_Annotations/YOLO_Dataset/ESP_012810_0925_RED-0112.jpg\n",
            "/content/gdrive/MyDrive/Omdena_Ahmedabad/After_Annotations/YOLO_Dataset/ESP_012810_0925_RED-0054-r180.jpg\n",
            "/content/gdrive/MyDrive/Omdena_Ahmedabad/After_Annotations/YOLO_Dataset/ESP_012810_0925_RED-0080-fh.jpg\n",
            "/content/gdrive/MyDrive/Omdena_Ahmedabad/After_Annotations/YOLO_Dataset/ESP_012810_0925_RED-0115-r180.jpg\n",
            "/content/gdrive/MyDrive/Omdena_Ahmedabad/After_Annotations/YOLO_Dataset/ESP_012810_0925_RED-0099.jpg\n",
            "/content/gdrive/MyDrive/Omdena_Ahmedabad/After_Annotations/YOLO_Dataset/ESP_012810_0925_RED-0066.jpg\n",
            "/content/gdrive/MyDrive/Omdena_Ahmedabad/After_Annotations/YOLO_Dataset/ESP_012810_0925_RED-0064.jpg\n",
            "/content/gdrive/MyDrive/Omdena_Ahmedabad/After_Annotations/YOLO_Dataset/ESP_012810_0925_RED-0033-fv.jpg\n",
            "/content/gdrive/MyDrive/Omdena_Ahmedabad/After_Annotations/YOLO_Dataset/ESP_012810_0925_RED-0124-r90.jpg\n",
            "/content/gdrive/MyDrive/Omdena_Ahmedabad/After_Annotations/YOLO_Dataset/ESP_012810_0925_RED-0058.jpg\n",
            "/content/gdrive/MyDrive/Omdena_Ahmedabad/After_Annotations/YOLO_Dataset/ESP_012810_0925_RED-0134-fh.jpg\n",
            "/content/gdrive/MyDrive/Omdena_Ahmedabad/After_Annotations/YOLO_Dataset/ESP_012810_0925_RED-0034-fh.jpg\n",
            "/content/gdrive/MyDrive/Omdena_Ahmedabad/After_Annotations/YOLO_Dataset/ESP_012810_0925_RED-0149-fh.jpg\n",
            "/content/gdrive/MyDrive/Omdena_Ahmedabad/After_Annotations/YOLO_Dataset/ESP_012810_0925_RED-0029-r180.jpg\n",
            "/content/gdrive/MyDrive/Omdena_Ahmedabad/After_Annotations/YOLO_Dataset/ESP_012810_0925_RED-0028-r180.jpg\n",
            "/content/gdrive/MyDrive/Omdena_Ahmedabad/After_Annotations/YOLO_Dataset/ESP_012810_0925_RED-0150-fv.jpg\n",
            "/content/gdrive/MyDrive/Omdena_Ahmedabad/After_Annotations/YOLO_Dataset/ESP_012810_0925_RED-0121-r180.jpg\n",
            "/content/gdrive/MyDrive/Omdena_Ahmedabad/After_Annotations/YOLO_Dataset/ESP_012810_0925_RED-0120-r180.jpg\n",
            "/content/gdrive/MyDrive/Omdena_Ahmedabad/After_Annotations/YOLO_Dataset/ESP_012810_0925_RED-0060-r180.jpg\n",
            "/content/gdrive/MyDrive/Omdena_Ahmedabad/After_Annotations/YOLO_Dataset/ESP_012810_0925_RED-0021-fv.jpg\n",
            "/content/gdrive/MyDrive/Omdena_Ahmedabad/After_Annotations/YOLO_Dataset/ESP_012810_0925_RED-0026-fh.jpg\n",
            "/content/gdrive/MyDrive/Omdena_Ahmedabad/After_Annotations/YOLO_Dataset/ESP_012810_0925_RED-0087-r90.jpg\n",
            "/content/gdrive/MyDrive/Omdena_Ahmedabad/After_Annotations/YOLO_Dataset/ESP_012810_0925_RED-0038-fh.jpg\n",
            "/content/gdrive/MyDrive/Omdena_Ahmedabad/After_Annotations/YOLO_Dataset/ESP_012810_0925_RED-0104.jpg\n",
            "/content/gdrive/MyDrive/Omdena_Ahmedabad/After_Annotations/YOLO_Dataset/ESP_012810_0925_RED-0042-fv.jpg\n",
            "/content/gdrive/MyDrive/Omdena_Ahmedabad/After_Annotations/YOLO_Dataset/ESP_012810_0925_RED-0117-fv.jpg\n",
            "/content/gdrive/MyDrive/Omdena_Ahmedabad/After_Annotations/YOLO_Dataset/ESP_012810_0925_RED-0139.jpg\n",
            "/content/gdrive/MyDrive/Omdena_Ahmedabad/After_Annotations/YOLO_Dataset/ESP_012810_0925_RED-0111.jpg\n",
            "/content/gdrive/MyDrive/Omdena_Ahmedabad/After_Annotations/YOLO_Dataset/ESP_012810_0925_RED-0129-r270.jpg\n",
            "/content/gdrive/MyDrive/Omdena_Ahmedabad/After_Annotations/YOLO_Dataset/ESP_012810_0925_RED-0071.jpg\n",
            "/content/gdrive/MyDrive/Omdena_Ahmedabad/After_Annotations/YOLO_Dataset/ESP_012810_0925_RED-0128-r270.jpg\n",
            "/content/gdrive/MyDrive/Omdena_Ahmedabad/After_Annotations/YOLO_Dataset/ESP_012810_0925_RED-0084-r180.jpg\n",
            "/content/gdrive/MyDrive/Omdena_Ahmedabad/After_Annotations/YOLO_Dataset/ESP_012810_0925_RED-0063-r90.jpg\n",
            "/content/gdrive/MyDrive/Omdena_Ahmedabad/After_Annotations/YOLO_Dataset/ESP_012810_0925_RED-0085-r180.jpg\n",
            "/content/gdrive/MyDrive/Omdena_Ahmedabad/After_Annotations/YOLO_Dataset/ESP_012810_0925_RED-0109-fv.jpg\n",
            "/content/gdrive/MyDrive/Omdena_Ahmedabad/After_Annotations/YOLO_Dataset/PSP_005728_0935_RED-0024-r180.jpg\n",
            "/content/gdrive/MyDrive/Omdena_Ahmedabad/After_Annotations/YOLO_Dataset/PSP_002804_0930_RED-0031.jpg\n",
            "/content/gdrive/MyDrive/Omdena_Ahmedabad/After_Annotations/YOLO_Dataset/PSP_002804_0930_RED-0003-fv.jpg\n",
            "/content/gdrive/MyDrive/Omdena_Ahmedabad/After_Annotations/YOLO_Dataset/PSP_002804_0930_RED-0024-r90.jpg\n",
            "/content/gdrive/MyDrive/Omdena_Ahmedabad/After_Annotations/YOLO_Dataset/PSP_002804_0930_RED-0051-fh.jpg\n",
            "/content/gdrive/MyDrive/Omdena_Ahmedabad/After_Annotations/YOLO_Dataset/ESP_030136_0930_RED-0008-brt.jpg\n",
            "/content/gdrive/MyDrive/Omdena_Ahmedabad/After_Annotations/YOLO_Dataset/ESP_030136_0930_RED-0035-fv.jpg\n",
            "/content/gdrive/MyDrive/Omdena_Ahmedabad/After_Annotations/YOLO_Dataset/ESP_030136_0930_RED-0029.jpg\n",
            "/content/gdrive/MyDrive/Omdena_Ahmedabad/After_Annotations/YOLO_Dataset/ESP_030136_0930_RED-0043-fh.jpg\n",
            "/content/gdrive/MyDrive/Omdena_Ahmedabad/After_Annotations/YOLO_Dataset/ESP_030136_0930_RED-0017.jpg\n",
            "/content/gdrive/MyDrive/Omdena_Ahmedabad/After_Annotations/YOLO_Dataset/ESP_030136_0930_RED-0020-r180.jpg\n",
            "/content/gdrive/MyDrive/Omdena_Ahmedabad/After_Annotations/YOLO_Dataset/ESP_030136_0930_RED-0016.jpg\n",
            "/content/gdrive/MyDrive/Omdena_Ahmedabad/After_Annotations/YOLO_Dataset/PSP_004673_0935_RED-0097-fv.jpg\n",
            "/content/gdrive/MyDrive/Omdena_Ahmedabad/After_Annotations/YOLO_Dataset/PSP_004673_0935_RED-0022-r180.jpg\n",
            "/content/gdrive/MyDrive/Omdena_Ahmedabad/After_Annotations/YOLO_Dataset/PSP_004673_0935_RED-0053-r90.jpg\n",
            "/content/gdrive/MyDrive/Omdena_Ahmedabad/After_Annotations/YOLO_Dataset/PSP_004673_0935_RED-0140-fv.jpg\n",
            "/content/gdrive/MyDrive/Omdena_Ahmedabad/After_Annotations/YOLO_Dataset/PSP_004673_0935_RED-0047-fh.jpg\n",
            "/content/gdrive/MyDrive/Omdena_Ahmedabad/After_Annotations/YOLO_Dataset/PSP_004673_0935_RED-0024-fh.jpg\n",
            "/content/gdrive/MyDrive/Omdena_Ahmedabad/After_Annotations/YOLO_Dataset/PSP_004673_0935_RED-0129.jpg\n",
            "/content/gdrive/MyDrive/Omdena_Ahmedabad/After_Annotations/YOLO_Dataset/PSP_004673_0935_RED-0007-brt.jpg\n",
            "/content/gdrive/MyDrive/Omdena_Ahmedabad/After_Annotations/YOLO_Dataset/PSP_004673_0935_RED-0049.jpg\n",
            "/content/gdrive/MyDrive/Omdena_Ahmedabad/After_Annotations/YOLO_Dataset/PSP_004673_0935_RED-0114-brt.jpg\n",
            "/content/gdrive/MyDrive/Omdena_Ahmedabad/After_Annotations/YOLO_Dataset/PSP_004673_0935_RED-0017-r90.jpg\n",
            "/content/gdrive/MyDrive/Omdena_Ahmedabad/After_Annotations/YOLO_Dataset/PSP_004673_0935_RED-0062.jpg\n",
            "/content/gdrive/MyDrive/Omdena_Ahmedabad/After_Annotations/YOLO_Dataset/PSP_004673_0935_RED-0091-r90.jpg\n",
            "/content/gdrive/MyDrive/Omdena_Ahmedabad/After_Annotations/YOLO_Dataset/PSP_004673_0935_RED-0061-r180.jpg\n",
            "/content/gdrive/MyDrive/Omdena_Ahmedabad/After_Annotations/YOLO_Dataset/PSP_002804_0930_RED-0018.jpg\n",
            "/content/gdrive/MyDrive/Omdena_Ahmedabad/After_Annotations/YOLO_Dataset/PSP_002804_0930_RED-0034-brt.jpg\n",
            "/content/gdrive/MyDrive/Omdena_Ahmedabad/After_Annotations/YOLO_Dataset/PSP_002804_0930_RED-0025.jpg\n",
            "/content/gdrive/MyDrive/Omdena_Ahmedabad/After_Annotations/YOLO_Dataset/PSP_005728_0935_RED-0019.jpg\n",
            "/content/gdrive/MyDrive/Omdena_Ahmedabad/After_Annotations/YOLO_Dataset/PSP_005728_0935_RED-0013-r270.jpg\n",
            "/content/gdrive/MyDrive/Omdena_Ahmedabad/After_Annotations/YOLO_Dataset/PSP_005728_0935_RED-0001-fv.jpg\n",
            "/content/gdrive/MyDrive/Omdena_Ahmedabad/After_Annotations/YOLO_Dataset/ESP_011289_1950_RED-0237-r270.jpg\n",
            "/content/gdrive/MyDrive/Omdena_Ahmedabad/After_Annotations/YOLO_Dataset/12_1_after_rot90.jpg\n",
            "/content/gdrive/MyDrive/Omdena_Ahmedabad/After_Annotations/YOLO_Dataset/43_1_after_rot270.jpg\n",
            "/content/gdrive/MyDrive/Omdena_Ahmedabad/After_Annotations/YOLO_Dataset/12_1_after.jpg\n",
            "/content/gdrive/MyDrive/Omdena_Ahmedabad/After_Annotations/YOLO_Dataset/13_1_after_rot90.jpg\n",
            "/content/gdrive/MyDrive/Omdena_Ahmedabad/After_Annotations/YOLO_Dataset/02_1_after_rot180.jpg\n",
            "/content/gdrive/MyDrive/Omdena_Ahmedabad/After_Annotations/YOLO_Dataset/13_1_after_vflip.jpg\n",
            "/content/gdrive/MyDrive/Omdena_Ahmedabad/After_Annotations/YOLO_Dataset/02_1_after_rot90.jpg\n",
            "/content/gdrive/MyDrive/Omdena_Ahmedabad/After_Annotations/YOLO_Dataset/39_1_after_hflip.jpg\n",
            "/content/gdrive/MyDrive/Omdena_Ahmedabad/After_Annotations/YOLO_Dataset/03_1_after_rot180.jpg\n",
            "/content/gdrive/MyDrive/Omdena_Ahmedabad/After_Annotations/YOLO_Dataset/02_1_after_hflip.jpg\n",
            "/content/gdrive/MyDrive/Omdena_Ahmedabad/After_Annotations/YOLO_Dataset/09_1_after.jpg\n",
            "/content/gdrive/MyDrive/Omdena_Ahmedabad/After_Annotations/YOLO_Dataset/43_1_after_rot90.jpg\n",
            "/content/gdrive/MyDrive/Omdena_Ahmedabad/After_Annotations/YOLO_Dataset/13_1_after_rot180.jpg\n",
            "/content/gdrive/MyDrive/Omdena_Ahmedabad/After_Annotations/YOLO_Dataset/13_1_after.jpg\n",
            "/content/gdrive/MyDrive/Omdena_Ahmedabad/After_Annotations/YOLO_Dataset/09_1_after_rot270.jpg\n",
            "/content/gdrive/MyDrive/Omdena_Ahmedabad/After_Annotations/YOLO_Dataset/01_1_after_vflip.jpg\n",
            "/content/gdrive/MyDrive/Omdena_Ahmedabad/After_Annotations/YOLO_Dataset/03_1_after_hflip.jpg\n",
            "/content/gdrive/MyDrive/Omdena_Ahmedabad/After_Annotations/YOLO_Dataset/39_1_after.jpg\n",
            "/content/gdrive/MyDrive/Omdena_Ahmedabad/After_Annotations/YOLO_Dataset/13_1_after_hflip.jpg\n",
            "/content/gdrive/MyDrive/Omdena_Ahmedabad/After_Annotations/YOLO_Dataset/01_1_after_rot270.jpg\n",
            "/content/gdrive/MyDrive/Omdena_Ahmedabad/After_Annotations/YOLO_Dataset/09_1_after_rot180.jpg\n",
            "/content/gdrive/MyDrive/Omdena_Ahmedabad/After_Annotations/YOLO_Dataset/43_1_after_vflip.jpg\n",
            "/content/gdrive/MyDrive/Omdena_Ahmedabad/After_Annotations/YOLO_Dataset/39_1_after_rot180.jpg\n",
            "/content/gdrive/MyDrive/Omdena_Ahmedabad/After_Annotations/YOLO_Dataset/09_1_after_rot90.jpg\n",
            "/content/gdrive/MyDrive/Omdena_Ahmedabad/After_Annotations/YOLO_Dataset/03_1_after.jpg\n",
            "/content/gdrive/MyDrive/Omdena_Ahmedabad/After_Annotations/YOLO_Dataset/09_1_after_vflip.jpg\n",
            "/content/gdrive/MyDrive/Omdena_Ahmedabad/After_Annotations/YOLO_Dataset/02_1_after_rot270.jpg\n",
            "/content/gdrive/MyDrive/Omdena_Ahmedabad/After_Annotations/YOLO_Dataset/43_1_after_hflip.jpg\n",
            "/content/gdrive/MyDrive/Omdena_Ahmedabad/After_Annotations/YOLO_Dataset/12_1_after_rot270.jpg\n",
            "/content/gdrive/MyDrive/Omdena_Ahmedabad/After_Annotations/YOLO_Dataset/12_1_after_hflip.jpg\n",
            "/content/gdrive/MyDrive/Omdena_Ahmedabad/After_Annotations/YOLO_Dataset/43_1_after.jpg\n",
            "/content/gdrive/MyDrive/Omdena_Ahmedabad/After_Annotations/YOLO_Dataset/02_1_after.jpg\n",
            "/content/gdrive/MyDrive/Omdena_Ahmedabad/After_Annotations/YOLO_Dataset/39_1_after_vflip.jpg\n",
            "/content/gdrive/MyDrive/Omdena_Ahmedabad/After_Annotations/YOLO_Dataset/13_1_after_rot270.jpg\n",
            "/content/gdrive/MyDrive/Omdena_Ahmedabad/After_Annotations/YOLO_Dataset/39_1_after_rot270.jpg\n",
            "/content/gdrive/MyDrive/Omdena_Ahmedabad/After_Annotations/YOLO_Dataset/43_1_after_rot180.jpg\n",
            "/content/gdrive/MyDrive/Omdena_Ahmedabad/After_Annotations/YOLO_Dataset/09_1_after_hflip.jpg\n",
            "/content/gdrive/MyDrive/Omdena_Ahmedabad/After_Annotations/YOLO_Dataset/01_1_after_rot90.jpg\n",
            "/content/gdrive/MyDrive/Omdena_Ahmedabad/After_Annotations/YOLO_Dataset/02_1_after_vflip.jpg\n",
            "/content/gdrive/MyDrive/Omdena_Ahmedabad/After_Annotations/YOLO_Dataset/39_1_after_rot90.jpg\n",
            "/content/gdrive/MyDrive/Omdena_Ahmedabad/After_Annotations/YOLO_Dataset/03_1_after_vflip.jpg\n",
            "/content/gdrive/MyDrive/Omdena_Ahmedabad/After_Annotations/YOLO_Dataset/12_1_after_rot180.jpg\n",
            "/content/gdrive/MyDrive/Omdena_Ahmedabad/After_Annotations/YOLO_Dataset/01_1_after.jpg\n",
            "/content/gdrive/MyDrive/Omdena_Ahmedabad/After_Annotations/YOLO_Dataset/12_1_after_vflip.jpg\n",
            "/content/gdrive/MyDrive/Omdena_Ahmedabad/After_Annotations/YOLO_Dataset/03_1_after_rot270.jpg\n",
            "/content/gdrive/MyDrive/Omdena_Ahmedabad/After_Annotations/YOLO_Dataset/01_1_after_rot180.jpg\n",
            "/content/gdrive/MyDrive/Omdena_Ahmedabad/After_Annotations/YOLO_Dataset/03_1_after_rot90.jpg\n",
            "/content/gdrive/MyDrive/Omdena_Ahmedabad/After_Annotations/YOLO_Dataset/01_1_after_hflip.jpg\n",
            "/content/gdrive/MyDrive/Omdena_Ahmedabad/After_Annotations/YOLO_Dataset/ESP_011386_2065_RED-0062-fv.jpg\n",
            "/content/gdrive/MyDrive/Omdena_Ahmedabad/After_Annotations/YOLO_Dataset/ESP_011289_1950_RED-0211-fv.jpg\n",
            "/content/gdrive/MyDrive/Omdena_Ahmedabad/After_Annotations/YOLO_Dataset/ESP_011289_1950_RED-0211.jpg\n",
            "/content/gdrive/MyDrive/Omdena_Ahmedabad/After_Annotations/YOLO_Dataset/ESP_011386_2065_RED-0026-r180.jpg\n",
            "/content/gdrive/MyDrive/Omdena_Ahmedabad/After_Annotations/YOLO_Dataset/ESP_011289_1950_RED-0208-fh.jpg\n",
            "/content/gdrive/MyDrive/Omdena_Ahmedabad/After_Annotations/YOLO_Dataset/ESP_011289_1950_RED-0208-r270.jpg\n",
            "/content/gdrive/MyDrive/Omdena_Ahmedabad/After_Annotations/YOLO_Dataset/ESP_011425_1775_RED-0016-fv.jpg\n",
            "/content/gdrive/MyDrive/Omdena_Ahmedabad/After_Annotations/YOLO_Dataset/ESP_011425_1775_RED-0004-fv.jpg\n",
            "/content/gdrive/MyDrive/Omdena_Ahmedabad/After_Annotations/YOLO_Dataset/ESP_011425_1775_RED-0064.jpg\n",
            "/content/gdrive/MyDrive/Omdena_Ahmedabad/After_Annotations/YOLO_Dataset/ESP_011425_1775_RED-0056-fh.jpg\n",
            "/content/gdrive/MyDrive/Omdena_Ahmedabad/After_Annotations/YOLO_Dataset/ESP_011425_1775_RED-0065.jpg\n",
            "/content/gdrive/MyDrive/Omdena_Ahmedabad/After_Annotations/YOLO_Dataset/ESP_011425_1775_RED-0035-fh.jpg\n",
            "/content/gdrive/MyDrive/Omdena_Ahmedabad/After_Annotations/YOLO_Dataset/ESP_011623_2100_RED-0015-r270.jpg\n",
            "/content/gdrive/MyDrive/Omdena_Ahmedabad/After_Annotations/YOLO_Dataset/ESP_011623_2100_RED-0001-fv.jpg\n",
            "/content/gdrive/MyDrive/Omdena_Ahmedabad/After_Annotations/YOLO_Dataset/ESP_011623_2100_RED-0083-fv.jpg\n",
            "/content/gdrive/MyDrive/Omdena_Ahmedabad/After_Annotations/YOLO_Dataset/ESP_011623_2100_RED-0062.jpg\n",
            "/content/gdrive/MyDrive/Omdena_Ahmedabad/After_Annotations/YOLO_Dataset/ESP_011623_2100_RED-0062-fv.jpg\n",
            "/content/gdrive/MyDrive/Omdena_Ahmedabad/After_Annotations/YOLO_Dataset/ESP_011623_2100_RED-0086-r270.jpg\n",
            "/content/gdrive/MyDrive/Omdena_Ahmedabad/After_Annotations/YOLO_Dataset/ESP_011623_2100_RED-0143-r90.jpg\n",
            "/content/gdrive/MyDrive/Omdena_Ahmedabad/After_Annotations/YOLO_Dataset/ESP_011623_2100_RED-0106-fh.jpg\n",
            "/content/gdrive/MyDrive/Omdena_Ahmedabad/After_Annotations/YOLO_Dataset/ESP_011623_2100_RED-0143-brt.jpg\n",
            "/content/gdrive/MyDrive/Omdena_Ahmedabad/After_Annotations/YOLO_Dataset/ESP_011623_2100_RED-0114.jpg\n",
            "/content/gdrive/MyDrive/Omdena_Ahmedabad/After_Annotations/YOLO_Dataset/ESP_011623_2100_RED-0130-fh.jpg\n",
            "/content/gdrive/MyDrive/Omdena_Ahmedabad/After_Annotations/YOLO_Dataset/ESP_011623_2100_RED-0225-brt.jpg\n",
            "/content/gdrive/MyDrive/Omdena_Ahmedabad/After_Annotations/YOLO_Dataset/ESP_011623_2100_RED-0242-fh.jpg\n",
            "/content/gdrive/MyDrive/Omdena_Ahmedabad/After_Annotations/YOLO_Dataset/ESP_011623_2100_RED-0249-fv.jpg\n",
            "/content/gdrive/MyDrive/Omdena_Ahmedabad/After_Annotations/YOLO_Dataset/ESP_011623_2100_RED-0302.jpg\n",
            "/content/gdrive/MyDrive/Omdena_Ahmedabad/After_Annotations/YOLO_Dataset/ESP_011623_2100_RED-0333-fh.jpg\n",
            "/content/gdrive/MyDrive/Omdena_Ahmedabad/After_Annotations/YOLO_Dataset/ESP_011623_2100_RED-0309-fh.jpg\n",
            "/content/gdrive/MyDrive/Omdena_Ahmedabad/After_Annotations/YOLO_Dataset/ESP_011623_2100_RED-0378-r180.jpg\n",
            "/content/gdrive/MyDrive/Omdena_Ahmedabad/After_Annotations/YOLO_Dataset/ESP_011623_2100_RED-0366-fh.jpg\n",
            "/content/gdrive/MyDrive/Omdena_Ahmedabad/After_Annotations/YOLO_Dataset/ESP_011623_2100_RED-0413-fh.jpg\n",
            "/content/gdrive/MyDrive/Omdena_Ahmedabad/After_Annotations/YOLO_Dataset/ESP_011623_2100_RED-0418-fv.jpg\n",
            "/content/gdrive/MyDrive/Omdena_Ahmedabad/After_Annotations/YOLO_Dataset/ESP_011623_2100_RED-0453-fv.jpg\n",
            "/content/gdrive/MyDrive/Omdena_Ahmedabad/After_Annotations/YOLO_Dataset/ESP_011623_2100_RED-0470-brt.jpg\n",
            "/content/gdrive/MyDrive/Omdena_Ahmedabad/After_Annotations/YOLO_Dataset/ESP_011677_1655_RED-0008-brt.jpg\n",
            "/content/gdrive/MyDrive/Omdena_Ahmedabad/After_Annotations/YOLO_Dataset/ESP_011677_1655_RED-0008-r270.jpg\n",
            "/content/gdrive/MyDrive/Omdena_Ahmedabad/After_Annotations/YOLO_Dataset/ESP_011623_2100_RED-0471.jpg\n",
            "/content/gdrive/MyDrive/Omdena_Ahmedabad/After_Annotations/YOLO_Dataset/ESP_011677_1655_RED-0068.jpg\n",
            "/content/gdrive/MyDrive/Omdena_Ahmedabad/After_Annotations/YOLO_Dataset/ESP_011677_1655_RED-0043.jpg\n",
            "/content/gdrive/MyDrive/Omdena_Ahmedabad/After_Annotations/YOLO_Dataset/ESP_011677_1655_RED-0135.jpg\n",
            "/content/gdrive/MyDrive/Omdena_Ahmedabad/After_Annotations/YOLO_Dataset/ESP_012494_2050_RED-0028-r180.jpg\n",
            "/content/gdrive/MyDrive/Omdena_Ahmedabad/After_Annotations/YOLO_Dataset/ESP_012494_2050_RED-0066-r90.jpg\n",
            "/content/gdrive/MyDrive/Omdena_Ahmedabad/After_Annotations/YOLO_Dataset/ESP_012494_2050_RED-0066-fv.jpg\n",
            "/content/gdrive/MyDrive/Omdena_Ahmedabad/After_Annotations/YOLO_Dataset/ESP_012494_2050_RED-0066-brt.jpg\n",
            "/content/gdrive/MyDrive/Omdena_Ahmedabad/After_Annotations/YOLO_Dataset/ESP_012494_2050_RED-0050-fv.jpg\n",
            "/content/gdrive/MyDrive/Omdena_Ahmedabad/After_Annotations/YOLO_Dataset/ESP_012494_2050_RED-0163-r180.jpg\n",
            "/content/gdrive/MyDrive/Omdena_Ahmedabad/After_Annotations/YOLO_Dataset/ESP_012494_2050_RED-0116.jpg\n",
            "/content/gdrive/MyDrive/Omdena_Ahmedabad/After_Annotations/YOLO_Dataset/ESP_012494_2050_RED-0126-fh.jpg\n",
            "/content/gdrive/MyDrive/Omdena_Ahmedabad/After_Annotations/YOLO_Dataset/ESP_012494_2050_RED-0195-fv.jpg\n",
            "/content/gdrive/MyDrive/Omdena_Ahmedabad/After_Annotations/YOLO_Dataset/ESP_012687_1930_RED-0132-fh.jpg\n",
            "/content/gdrive/MyDrive/Omdena_Ahmedabad/After_Annotations/YOLO_Dataset/ESP_012971_2015_RED-0014-fv.jpg\n",
            "/content/gdrive/MyDrive/Omdena_Ahmedabad/After_Annotations/YOLO_Dataset/ESP_012971_2015_RED-0384-brt.jpg\n",
            "/content/gdrive/MyDrive/Omdena_Ahmedabad/After_Annotations/YOLO_Dataset/ESP_012971_2015_RED-0416-r270.jpg\n",
            "/content/gdrive/MyDrive/Omdena_Ahmedabad/After_Annotations/YOLO_Dataset/ESP_012971_2015_RED-0417-r270.jpg\n",
            "/content/gdrive/MyDrive/Omdena_Ahmedabad/After_Annotations/YOLO_Dataset/ESP_013161_1715_RED-0018-fv.jpg\n",
            "/content/gdrive/MyDrive/Omdena_Ahmedabad/After_Annotations/YOLO_Dataset/ESP_013161_1715_RED-0057-r180.jpg\n",
            "/content/gdrive/MyDrive/Omdena_Ahmedabad/After_Annotations/YOLO_Dataset/ESP_013161_1715_RED-0131.jpg\n",
            "/content/gdrive/MyDrive/Omdena_Ahmedabad/After_Annotations/YOLO_Dataset/ESP_013161_1715_RED-0119.jpg\n",
            "/content/gdrive/MyDrive/Omdena_Ahmedabad/After_Annotations/YOLO_Dataset/ESP_013281_1930_RED-0018-brt.jpg\n",
            "/content/gdrive/MyDrive/Omdena_Ahmedabad/After_Annotations/YOLO_Dataset/ESP_013281_1930_RED-0012-fh.jpg\n",
            "/content/gdrive/MyDrive/Omdena_Ahmedabad/After_Annotations/YOLO_Dataset/ESP_013799_1755_RED-0033-brt.jpg\n",
            "/content/gdrive/MyDrive/Omdena_Ahmedabad/After_Annotations/YOLO_Dataset/ESP_016572_1875_RED-0136-brt.jpg\n",
            "/content/gdrive/MyDrive/Omdena_Ahmedabad/After_Annotations/YOLO_Dataset/ESP_016576_2570_RED-0002-r90.jpg\n",
            "/content/gdrive/MyDrive/Omdena_Ahmedabad/After_Annotations/YOLO_Dataset/ESP_016576_2570_RED-0002-fh.jpg\n",
            "/content/gdrive/MyDrive/Omdena_Ahmedabad/After_Annotations/YOLO_Dataset/ESP_016576_2570_RED-0002-r270.jpg\n",
            "/content/gdrive/MyDrive/Omdena_Ahmedabad/After_Annotations/YOLO_Dataset/ESP_016576_2570_RED-0002-r180.jpg\n",
            "/content/gdrive/MyDrive/Omdena_Ahmedabad/After_Annotations/YOLO_Dataset/ESP_016576_2570_RED-0002.jpg\n",
            "/content/gdrive/MyDrive/Omdena_Ahmedabad/After_Annotations/YOLO_Dataset/ESP_016576_2570_RED-0002-fv.jpg\n",
            "/content/gdrive/MyDrive/Omdena_Ahmedabad/After_Annotations/YOLO_Dataset/ESP_016576_2570_RED-0018-fh.jpg\n",
            "/content/gdrive/MyDrive/Omdena_Ahmedabad/After_Annotations/YOLO_Dataset/ESP_016576_2570_RED-0004-r180.jpg\n",
            "/content/gdrive/MyDrive/Omdena_Ahmedabad/After_Annotations/YOLO_Dataset/ESP_016576_2570_RED-0005-fh.jpg\n",
            "/content/gdrive/MyDrive/Omdena_Ahmedabad/After_Annotations/YOLO_Dataset/ESP_016576_2570_RED-0020.jpg\n",
            "/content/gdrive/MyDrive/Omdena_Ahmedabad/After_Annotations/YOLO_Dataset/ESP_016576_2570_RED-0004-r90.jpg\n",
            "/content/gdrive/MyDrive/Omdena_Ahmedabad/After_Annotations/YOLO_Dataset/ESP_016576_2570_RED-0015-fh.jpg\n",
            "/content/gdrive/MyDrive/Omdena_Ahmedabad/After_Annotations/YOLO_Dataset/ESP_016576_2570_RED-0004-fv.jpg\n",
            "/content/gdrive/MyDrive/Omdena_Ahmedabad/After_Annotations/YOLO_Dataset/ESP_016576_2570_RED-0018-r180.jpg\n",
            "/content/gdrive/MyDrive/Omdena_Ahmedabad/After_Annotations/YOLO_Dataset/ESP_016576_2570_RED-0015.jpg\n",
            "/content/gdrive/MyDrive/Omdena_Ahmedabad/After_Annotations/YOLO_Dataset/ESP_016576_2570_RED-0005.jpg\n",
            "/content/gdrive/MyDrive/Omdena_Ahmedabad/After_Annotations/YOLO_Dataset/ESP_016576_2570_RED-0004.jpg\n",
            "/content/gdrive/MyDrive/Omdena_Ahmedabad/After_Annotations/YOLO_Dataset/ESP_016576_2570_RED-0017-r90.jpg\n",
            "/content/gdrive/MyDrive/Omdena_Ahmedabad/After_Annotations/YOLO_Dataset/ESP_016576_2570_RED-0005-brt.jpg\n",
            "/content/gdrive/MyDrive/Omdena_Ahmedabad/After_Annotations/YOLO_Dataset/ESP_016576_2570_RED-0019-r270.jpg\n",
            "/content/gdrive/MyDrive/Omdena_Ahmedabad/After_Annotations/YOLO_Dataset/ESP_016576_2570_RED-0004-fh.jpg\n",
            "/content/gdrive/MyDrive/Omdena_Ahmedabad/After_Annotations/YOLO_Dataset/ESP_016576_2570_RED-0016-r180.jpg\n",
            "/content/gdrive/MyDrive/Omdena_Ahmedabad/After_Annotations/YOLO_Dataset/ESP_016576_2570_RED-0016-r270.jpg\n",
            "/content/gdrive/MyDrive/Omdena_Ahmedabad/After_Annotations/YOLO_Dataset/ESP_016576_2570_RED-0017-fv.jpg\n",
            "/content/gdrive/MyDrive/Omdena_Ahmedabad/After_Annotations/YOLO_Dataset/ESP_016576_2570_RED-0016-fv.jpg\n",
            "/content/gdrive/MyDrive/Omdena_Ahmedabad/After_Annotations/YOLO_Dataset/ESP_016576_2570_RED-0017-r270.jpg\n",
            "/content/gdrive/MyDrive/Omdena_Ahmedabad/After_Annotations/YOLO_Dataset/ESP_016576_2570_RED-0002-brt.jpg\n",
            "/content/gdrive/MyDrive/Omdena_Ahmedabad/After_Annotations/YOLO_Dataset/ESP_016576_2570_RED-0004-brt.jpg\n",
            "/content/gdrive/MyDrive/Omdena_Ahmedabad/After_Annotations/YOLO_Dataset/ESP_016576_2570_RED-0016-r90.jpg\n",
            "/content/gdrive/MyDrive/Omdena_Ahmedabad/After_Annotations/YOLO_Dataset/ESP_016576_2570_RED-0019-fh.jpg\n",
            "/content/gdrive/MyDrive/Omdena_Ahmedabad/After_Annotations/YOLO_Dataset/ESP_016576_2570_RED-0018-r90.jpg\n",
            "/content/gdrive/MyDrive/Omdena_Ahmedabad/After_Annotations/YOLO_Dataset/ESP_016576_2570_RED-0019-fv.jpg\n",
            "/content/gdrive/MyDrive/Omdena_Ahmedabad/After_Annotations/YOLO_Dataset/ESP_016576_2570_RED-0017-brt.jpg\n",
            "/content/gdrive/MyDrive/Omdena_Ahmedabad/After_Annotations/YOLO_Dataset/ESP_016576_2570_RED-0005-fv.jpg\n",
            "/content/gdrive/MyDrive/Omdena_Ahmedabad/After_Annotations/YOLO_Dataset/ESP_016576_2570_RED-0017-fh.jpg\n",
            "/content/gdrive/MyDrive/Omdena_Ahmedabad/After_Annotations/YOLO_Dataset/ESP_016576_2570_RED-0019-brt.jpg\n",
            "/content/gdrive/MyDrive/Omdena_Ahmedabad/After_Annotations/YOLO_Dataset/ESP_016576_2570_RED-0016-brt.jpg\n",
            "/content/gdrive/MyDrive/Omdena_Ahmedabad/After_Annotations/YOLO_Dataset/ESP_016576_2570_RED-0015-r90.jpg\n",
            "/content/gdrive/MyDrive/Omdena_Ahmedabad/After_Annotations/YOLO_Dataset/ESP_016576_2570_RED-0016-fh.jpg\n",
            "/content/gdrive/MyDrive/Omdena_Ahmedabad/After_Annotations/YOLO_Dataset/ESP_016576_2570_RED-0005-r90.jpg\n",
            "/content/gdrive/MyDrive/Omdena_Ahmedabad/After_Annotations/YOLO_Dataset/ESP_016576_2570_RED-0015-r270.jpg\n",
            "/content/gdrive/MyDrive/Omdena_Ahmedabad/After_Annotations/YOLO_Dataset/ESP_016576_2570_RED-0017-r180.jpg\n",
            "/content/gdrive/MyDrive/Omdena_Ahmedabad/After_Annotations/YOLO_Dataset/ESP_016576_2570_RED-0015-r180.jpg\n",
            "/content/gdrive/MyDrive/Omdena_Ahmedabad/After_Annotations/YOLO_Dataset/ESP_016576_2570_RED-0018.jpg\n",
            "/content/gdrive/MyDrive/Omdena_Ahmedabad/After_Annotations/YOLO_Dataset/ESP_016576_2570_RED-0004-r270.jpg\n",
            "/content/gdrive/MyDrive/Omdena_Ahmedabad/After_Annotations/YOLO_Dataset/ESP_016576_2570_RED-0018-r270.jpg\n",
            "/content/gdrive/MyDrive/Omdena_Ahmedabad/After_Annotations/YOLO_Dataset/ESP_016576_2570_RED-0015-brt.jpg\n",
            "/content/gdrive/MyDrive/Omdena_Ahmedabad/After_Annotations/YOLO_Dataset/ESP_016576_2570_RED-0018-fv.jpg\n",
            "/content/gdrive/MyDrive/Omdena_Ahmedabad/After_Annotations/YOLO_Dataset/ESP_016576_2570_RED-0016.jpg\n",
            "/content/gdrive/MyDrive/Omdena_Ahmedabad/After_Annotations/YOLO_Dataset/ESP_016576_2570_RED-0005-r270.jpg\n",
            "/content/gdrive/MyDrive/Omdena_Ahmedabad/After_Annotations/YOLO_Dataset/ESP_016576_2570_RED-0005-r180.jpg\n",
            "/content/gdrive/MyDrive/Omdena_Ahmedabad/After_Annotations/YOLO_Dataset/ESP_016576_2570_RED-0019-r90.jpg\n",
            "/content/gdrive/MyDrive/Omdena_Ahmedabad/After_Annotations/YOLO_Dataset/ESP_016576_2570_RED-0019-r180.jpg\n",
            "/content/gdrive/MyDrive/Omdena_Ahmedabad/After_Annotations/YOLO_Dataset/ESP_016576_2570_RED-0017.jpg\n",
            "/content/gdrive/MyDrive/Omdena_Ahmedabad/After_Annotations/YOLO_Dataset/ESP_016576_2570_RED-0018-brt.jpg\n",
            "/content/gdrive/MyDrive/Omdena_Ahmedabad/After_Annotations/YOLO_Dataset/ESP_016576_2570_RED-0015-fv.jpg\n",
            "/content/gdrive/MyDrive/Omdena_Ahmedabad/After_Annotations/YOLO_Dataset/ESP_016576_2570_RED-0019.jpg\n",
            "/content/gdrive/MyDrive/Omdena_Ahmedabad/After_Annotations/YOLO_Dataset/ESP_016607_2080_RED-0047-r90.jpg\n",
            "/content/gdrive/MyDrive/Omdena_Ahmedabad/After_Annotations/YOLO_Dataset/ESP_016607_2080_RED-0047-brt.jpg\n",
            "/content/gdrive/MyDrive/Omdena_Ahmedabad/After_Annotations/YOLO_Dataset/ESP_016576_2570_RED-0023-fv.jpg\n",
            "/content/gdrive/MyDrive/Omdena_Ahmedabad/After_Annotations/YOLO_Dataset/ESP_016576_2570_RED-0023-fh.jpg\n",
            "/content/gdrive/MyDrive/Omdena_Ahmedabad/After_Annotations/YOLO_Dataset/ESP_016576_2570_RED-0023-r270.jpg\n",
            "/content/gdrive/MyDrive/Omdena_Ahmedabad/After_Annotations/YOLO_Dataset/ESP_016576_2570_RED-0024-fv.jpg\n",
            "/content/gdrive/MyDrive/Omdena_Ahmedabad/After_Annotations/YOLO_Dataset/ESP_016576_2570_RED-0020-fv.jpg\n",
            "/content/gdrive/MyDrive/Omdena_Ahmedabad/After_Annotations/YOLO_Dataset/ESP_016576_2570_RED-0020-r270.jpg\n",
            "/content/gdrive/MyDrive/Omdena_Ahmedabad/After_Annotations/YOLO_Dataset/ESP_016576_2570_RED-0020-r90.jpg\n",
            "/content/gdrive/MyDrive/Omdena_Ahmedabad/After_Annotations/YOLO_Dataset/ESP_016576_2570_RED-0020-fh.jpg\n",
            "/content/gdrive/MyDrive/Omdena_Ahmedabad/After_Annotations/YOLO_Dataset/ESP_016576_2570_RED-0023-brt.jpg\n",
            "/content/gdrive/MyDrive/Omdena_Ahmedabad/After_Annotations/YOLO_Dataset/ESP_016576_2570_RED-0024-r90.jpg\n",
            "/content/gdrive/MyDrive/Omdena_Ahmedabad/After_Annotations/YOLO_Dataset/ESP_016576_2570_RED-0023-r180.jpg\n",
            "/content/gdrive/MyDrive/Omdena_Ahmedabad/After_Annotations/YOLO_Dataset/ESP_016576_2570_RED-0024-r270.jpg\n",
            "/content/gdrive/MyDrive/Omdena_Ahmedabad/After_Annotations/YOLO_Dataset/ESP_016576_2570_RED-0023.jpg\n",
            "/content/gdrive/MyDrive/Omdena_Ahmedabad/After_Annotations/YOLO_Dataset/ESP_016576_2570_RED-0024-r180.jpg\n",
            "/content/gdrive/MyDrive/Omdena_Ahmedabad/After_Annotations/YOLO_Dataset/ESP_016576_2570_RED-0024-brt.jpg\n",
            "/content/gdrive/MyDrive/Omdena_Ahmedabad/After_Annotations/YOLO_Dataset/ESP_016576_2570_RED-0020-r180.jpg\n",
            "/content/gdrive/MyDrive/Omdena_Ahmedabad/After_Annotations/YOLO_Dataset/ESP_016576_2570_RED-0024-fh.jpg\n",
            "/content/gdrive/MyDrive/Omdena_Ahmedabad/After_Annotations/YOLO_Dataset/ESP_016576_2570_RED-0020-brt.jpg\n",
            "/content/gdrive/MyDrive/Omdena_Ahmedabad/After_Annotations/YOLO_Dataset/ESP_016576_2570_RED-0023-r90.jpg\n",
            "/content/gdrive/MyDrive/Omdena_Ahmedabad/After_Annotations/YOLO_Dataset/ESP_016607_2080_RED-0081.jpg\n",
            "/content/gdrive/MyDrive/Omdena_Ahmedabad/After_Annotations/YOLO_Dataset/ESP_016607_2080_RED-0141-fv.jpg\n",
            "/content/gdrive/MyDrive/Omdena_Ahmedabad/After_Annotations/YOLO_Dataset/ESP_016607_2080_RED-0122-fv.jpg\n",
            "/content/gdrive/MyDrive/Omdena_Ahmedabad/After_Annotations/YOLO_Dataset/ESP_016607_2080_RED-0122.jpg\n",
            "/content/gdrive/MyDrive/Omdena_Ahmedabad/After_Annotations/YOLO_Dataset/ESP_016630_1720_RED-0016-r270.jpg\n",
            "/content/gdrive/MyDrive/Omdena_Ahmedabad/After_Annotations/YOLO_Dataset/ESP_016630_1720_RED-0016-fv.jpg\n",
            "/content/gdrive/MyDrive/Omdena_Ahmedabad/After_Annotations/YOLO_Dataset/ESP_016631_2535_RED-0003-fh.jpg\n",
            "/content/gdrive/MyDrive/Omdena_Ahmedabad/After_Annotations/YOLO_Dataset/ESP_016631_2535_RED-0008-fh.jpg\n",
            "/content/gdrive/MyDrive/Omdena_Ahmedabad/After_Annotations/YOLO_Dataset/ESP_016631_2535_RED-0012-r180.jpg\n",
            "/content/gdrive/MyDrive/Omdena_Ahmedabad/After_Annotations/YOLO_Dataset/ESP_016631_2535_RED-0004.jpg\n",
            "/content/gdrive/MyDrive/Omdena_Ahmedabad/After_Annotations/YOLO_Dataset/ESP_016631_2535_RED-0008-brt.jpg\n",
            "/content/gdrive/MyDrive/Omdena_Ahmedabad/After_Annotations/YOLO_Dataset/ESP_016631_2535_RED-0002-r180.jpg\n",
            "/content/gdrive/MyDrive/Omdena_Ahmedabad/After_Annotations/YOLO_Dataset/ESP_016631_2535_RED-0006-fv.jpg\n",
            "/content/gdrive/MyDrive/Omdena_Ahmedabad/After_Annotations/YOLO_Dataset/ESP_016631_2535_RED-0000-r180.jpg\n",
            "/content/gdrive/MyDrive/Omdena_Ahmedabad/After_Annotations/YOLO_Dataset/ESP_016630_1720_RED-0056-fh.jpg\n",
            "/content/gdrive/MyDrive/Omdena_Ahmedabad/After_Annotations/YOLO_Dataset/ESP_016631_2535_RED-0003-r270.jpg\n",
            "/content/gdrive/MyDrive/Omdena_Ahmedabad/After_Annotations/YOLO_Dataset/ESP_016631_2535_RED-0004-r180.jpg\n",
            "/content/gdrive/MyDrive/Omdena_Ahmedabad/After_Annotations/YOLO_Dataset/ESP_016631_2535_RED-0006-fh.jpg\n",
            "/content/gdrive/MyDrive/Omdena_Ahmedabad/After_Annotations/YOLO_Dataset/ESP_016631_2535_RED-0008-fv.jpg\n",
            "/content/gdrive/MyDrive/Omdena_Ahmedabad/After_Annotations/YOLO_Dataset/ESP_016631_2535_RED-0000-r270.jpg\n",
            "/content/gdrive/MyDrive/Omdena_Ahmedabad/After_Annotations/YOLO_Dataset/ESP_016631_2535_RED-0011.jpg\n"
          ]
        }
      ]
    },
    {
      "cell_type": "code",
      "source": [
        "%cd /content/gdrive/MyDrive/Omdena/Combined_Images"
      ],
      "metadata": {
        "colab": {
          "base_uri": "https://localhost:8080/"
        },
        "id": "rPeTCzKLNSlm",
        "outputId": "d4e30e9c-cf89-4e43-b482-1a54a1b86884"
      },
      "execution_count": null,
      "outputs": [
        {
          "output_type": "stream",
          "name": "stdout",
          "text": [
            "/content/gdrive/MyDrive/Omdena/Combined_Images\n"
          ]
        }
      ]
    },
    {
      "cell_type": "code",
      "source": [
        "%ls >> Images.txt"
      ],
      "metadata": {
        "id": "Si_iODkeNi1P"
      },
      "execution_count": null,
      "outputs": []
    },
    {
      "cell_type": "code",
      "source": [
        "import shutil\n",
        "import os"
      ],
      "metadata": {
        "id": "1wufOdGjNBEH"
      },
      "execution_count": null,
      "outputs": []
    },
    {
      "cell_type": "code",
      "source": [
        "source = '/content/gdrive/MyDrive/Omdena_Ahmedabad/After_Annotations/Final Dataset'\n",
        "destination = '/content/gdrive/MyDrive/Omdena_Ahmedabad/After_Annotations/YOLO_Data'\n",
        "files = os.listdir(source)\n",
        "c=0\n",
        "for dirs in os.listdir(source):\n",
        "    #print(dirs)\n",
        "    dir_name = os.path.join(source,dirs) \n",
        "    #print(dir_name)\n",
        "    for filess in os.listdir(dir_name):\n",
        "      if filess.endswith('.jpg') or filess.endswith('.txt'):\n",
        "        file_name = os.path.join(dir_name,filess)\n",
        "        c += 1\n",
        "        #shutil.copy2(file_name, destination)\n",
        "print(f\"{c}-Files Moved\")"
      ],
      "metadata": {
        "colab": {
          "base_uri": "https://localhost:8080/"
        },
        "id": "wkclQBEMMGRM",
        "outputId": "6bcfb9dd-d3d0-460a-f4cb-9767b5090b66"
      },
      "execution_count": null,
      "outputs": [
        {
          "output_type": "stream",
          "name": "stdout",
          "text": [
            "1212-Files Moved\n"
          ]
        }
      ]
    },
    {
      "cell_type": "code",
      "source": [
        "# # Creating Train / Val / Test folders (One time use)\n",
        "import os\n",
        "import numpy as np\n",
        "import shutil\n",
        "import random\n",
        "root_dir = '/content/gdrive/MyDrive/Omdena_Ahmedabad/After_Annotations/Final Dataset/' # data root path\n",
        "classes_dir = ['Dark Dunes']\n",
        "#, 'Slope Streak', 'Spider', 'Crater Dataset', 'HiRise_swiss_cheese','Impact Ejecta Dataset'] #total labels\n",
        "#/content/gdrive/MyDrive/Omdena_Ahmedabad/After_Annotations/Final Dataset/Dark Dunes\n",
        "val_ratio = 0.20\n",
        "#test_ratio = 0.05\n",
        "\n",
        "# for cls in classes_dir:\n",
        "#     os.makedirs(root_dir +'train/' + cls)\n",
        "#     os.makedirs(root_dir +'val/' + cls)\n",
        "#     #os.makedirs(root_dir +'test/' + cls)\n",
        "\n",
        "\n",
        "# Creating partitions of the data after shuffeling\n",
        "src = root_dir + cls # Folder to copy images from\n",
        "\n",
        "allFileNames = os.listdir(src)\n",
        "np.random.shuffle(allFileNames)\n",
        "train_FileNames, val_FileNames = np.split(np.array(allFileNames),\n",
        "                                                          [int(len(allFileNames)* (1 - (val_ratio)))])\n",
        "                                                        \n",
        "\n",
        "\n",
        "train_FileNames = [src+'/'+ name for name in train_FileNames.tolist()]\n",
        "val_FileNames = [src+'/' + name for name in val_FileNames.tolist()]\n",
        "#test_FileNames = [src+'/' + name for name in test_FileNames.tolist()]\n",
        "\n",
        "print('Total images: ', len(allFileNames))\n",
        "print('Training: ', len(train_FileNames))\n",
        "print('Validation: ', len(val_FileNames))\n",
        "#print('Testing: ', len(test_FileNames))\n",
        "\n",
        "# Copy-pasting images\n",
        "for name in train_FileNames:\n",
        "    shutil.copy(name, root_dir +'train/' + cls)\n",
        "\n",
        "for name in val_FileNames:\n",
        "    shutil.copy(name, root_dir +'val/' + cls)\n",
        "\n",
        "# for name in test_FileNames:\n",
        "#     shutil.copy(name, root_dir +'test/' + cls)"
      ],
      "metadata": {
        "id": "vIaUmL5qdNw7",
        "colab": {
          "base_uri": "https://localhost:8080/"
        },
        "outputId": "0da08a50-f7dd-45d7-a6e3-2658567c709e"
      },
      "execution_count": null,
      "outputs": [
        {
          "output_type": "stream",
          "name": "stdout",
          "text": [
            "Total images:  158\n",
            "Training:  126\n",
            "Validation:  32\n"
          ]
        }
      ]
    },
    {
      "cell_type": "code",
      "source": [
        "import shutil\n",
        "import os \n",
        "\n",
        "classes_dir = ['Bright Dune', 'Slope Streak', 'Spider', 'Crater Dataset', 'HiRise_swiss_cheese','Dark Dunes','Impact Ejecta Dataset'] #total labels\n",
        "\n",
        "\n",
        "destination = '/content/gdrive/MyDrive/Omdena_Ahmedabad/After_Annotations/Final Dataset/val'\n",
        "path = '/content/gdrive/MyDrive/Omdena_Ahmedabad/After_Annotations/Final Dataset/val/'\n",
        "for i in classes_dir:\n",
        "  pre_source = os.path.join(path, i)\n",
        "  for j in os.listdir(pre_source):\n",
        "    source = os.path.join(pre_source, j)\n",
        "    if source.endswith('.jpg'):\n",
        "      shutil.copy2(source,destination)\n",
        "    #print(source)"
      ],
      "metadata": {
        "id": "OqZcJj9Tf062"
      },
      "execution_count": null,
      "outputs": []
    },
    {
      "cell_type": "code",
      "source": [
        "list22=[]"
      ],
      "metadata": {
        "id": "a8W8xL1wqjmy"
      },
      "execution_count": null,
      "outputs": []
    },
    {
      "cell_type": "code",
      "source": [
        "import glob, os\n",
        "os.chdir(\"/content/gdrive/My Drive/Omdena_Ahmedabad/After_Annotations/Final Dataset/train\")\n",
        "for file in glob.glob(\"*.jpg\"):\n",
        "    list22.append(file)"
      ],
      "metadata": {
        "id": "59hVw7IgjoVV"
      },
      "execution_count": null,
      "outputs": []
    },
    {
      "cell_type": "code",
      "source": [
        "dict33 = {\n",
        "    'File Name': list22\n",
        "}"
      ],
      "metadata": {
        "id": "ky8MOMWujrK3"
      },
      "execution_count": null,
      "outputs": []
    },
    {
      "cell_type": "code",
      "source": [
        "import pandas as pd\n",
        "Train_Images = pd.DataFrame(dict33)"
      ],
      "metadata": {
        "id": "ltT39azpj38F"
      },
      "execution_count": null,
      "outputs": []
    },
    {
      "cell_type": "code",
      "source": [
        "#Train_Images\n",
        "Train_Images['Extension']= Train_Images['File Name'].str.split(\".\",expand = True)+ '.txt'"
      ],
      "metadata": {
        "id": "BVnG50WSj6HU"
      },
      "execution_count": null,
      "outputs": []
    },
    {
      "cell_type": "code",
      "source": [
        "Train_Images"
      ],
      "metadata": {
        "colab": {
          "base_uri": "https://localhost:8080/",
          "height": 424
        },
        "id": "RbSzXeDhmmA8",
        "outputId": "ed1ff807-efdb-448d-fa8f-e0ab8330bd73"
      },
      "execution_count": null,
      "outputs": [
        {
          "output_type": "execute_result",
          "data": {
            "text/html": [
              "\n",
              "  <div id=\"df-766431e2-3237-4bf3-9a77-1912f6de83c6\">\n",
              "    <div class=\"colab-df-container\">\n",
              "      <div>\n",
              "<style scoped>\n",
              "    .dataframe tbody tr th:only-of-type {\n",
              "        vertical-align: middle;\n",
              "    }\n",
              "\n",
              "    .dataframe tbody tr th {\n",
              "        vertical-align: top;\n",
              "    }\n",
              "\n",
              "    .dataframe thead th {\n",
              "        text-align: right;\n",
              "    }\n",
              "</style>\n",
              "<table border=\"1\" class=\"dataframe\">\n",
              "  <thead>\n",
              "    <tr style=\"text-align: right;\">\n",
              "      <th></th>\n",
              "      <th>File Name</th>\n",
              "      <th>Extension</th>\n",
              "    </tr>\n",
              "  </thead>\n",
              "  <tbody>\n",
              "    <tr>\n",
              "      <th>0</th>\n",
              "      <td>43_1_after_vflip.jpg</td>\n",
              "      <td>43_1_after_vflip.txt</td>\n",
              "    </tr>\n",
              "    <tr>\n",
              "      <th>1</th>\n",
              "      <td>02_1_after.jpg</td>\n",
              "      <td>02_1_after.txt</td>\n",
              "    </tr>\n",
              "    <tr>\n",
              "      <th>2</th>\n",
              "      <td>43_1_after_rot270.jpg</td>\n",
              "      <td>43_1_after_rot270.txt</td>\n",
              "    </tr>\n",
              "    <tr>\n",
              "      <th>3</th>\n",
              "      <td>ESP_016773_2010_RED-0041-r270.jpg</td>\n",
              "      <td>ESP_016773_2010_RED-0041-r270.txt</td>\n",
              "    </tr>\n",
              "    <tr>\n",
              "      <th>4</th>\n",
              "      <td>09_1_after.jpg</td>\n",
              "      <td>09_1_after.txt</td>\n",
              "    </tr>\n",
              "    <tr>\n",
              "      <th>...</th>\n",
              "      <td>...</td>\n",
              "      <td>...</td>\n",
              "    </tr>\n",
              "    <tr>\n",
              "      <th>603</th>\n",
              "      <td>ESP_018735_2815_RED-0041.jpg</td>\n",
              "      <td>ESP_018735_2815_RED-0041.txt</td>\n",
              "    </tr>\n",
              "    <tr>\n",
              "      <th>604</th>\n",
              "      <td>ESP_018720_2655_RED-0064.jpg</td>\n",
              "      <td>ESP_018720_2655_RED-0064.txt</td>\n",
              "    </tr>\n",
              "    <tr>\n",
              "      <th>605</th>\n",
              "      <td>ESP_033955_2065_RED-0038.jpg</td>\n",
              "      <td>ESP_033955_2065_RED-0038.txt</td>\n",
              "    </tr>\n",
              "    <tr>\n",
              "      <th>606</th>\n",
              "      <td>ESP_033955_2065_RED-0032.jpg</td>\n",
              "      <td>ESP_033955_2065_RED-0032.txt</td>\n",
              "    </tr>\n",
              "    <tr>\n",
              "      <th>607</th>\n",
              "      <td>ESP_018720_2655_RED-0081.jpg</td>\n",
              "      <td>ESP_018720_2655_RED-0081.txt</td>\n",
              "    </tr>\n",
              "  </tbody>\n",
              "</table>\n",
              "<p>608 rows × 2 columns</p>\n",
              "</div>\n",
              "      <button class=\"colab-df-convert\" onclick=\"convertToInteractive('df-766431e2-3237-4bf3-9a77-1912f6de83c6')\"\n",
              "              title=\"Convert this dataframe to an interactive table.\"\n",
              "              style=\"display:none;\">\n",
              "        \n",
              "  <svg xmlns=\"http://www.w3.org/2000/svg\" height=\"24px\"viewBox=\"0 0 24 24\"\n",
              "       width=\"24px\">\n",
              "    <path d=\"M0 0h24v24H0V0z\" fill=\"none\"/>\n",
              "    <path d=\"M18.56 5.44l.94 2.06.94-2.06 2.06-.94-2.06-.94-.94-2.06-.94 2.06-2.06.94zm-11 1L8.5 8.5l.94-2.06 2.06-.94-2.06-.94L8.5 2.5l-.94 2.06-2.06.94zm10 10l.94 2.06.94-2.06 2.06-.94-2.06-.94-.94-2.06-.94 2.06-2.06.94z\"/><path d=\"M17.41 7.96l-1.37-1.37c-.4-.4-.92-.59-1.43-.59-.52 0-1.04.2-1.43.59L10.3 9.45l-7.72 7.72c-.78.78-.78 2.05 0 2.83L4 21.41c.39.39.9.59 1.41.59.51 0 1.02-.2 1.41-.59l7.78-7.78 2.81-2.81c.8-.78.8-2.07 0-2.86zM5.41 20L4 18.59l7.72-7.72 1.47 1.35L5.41 20z\"/>\n",
              "  </svg>\n",
              "      </button>\n",
              "      \n",
              "  <style>\n",
              "    .colab-df-container {\n",
              "      display:flex;\n",
              "      flex-wrap:wrap;\n",
              "      gap: 12px;\n",
              "    }\n",
              "\n",
              "    .colab-df-convert {\n",
              "      background-color: #E8F0FE;\n",
              "      border: none;\n",
              "      border-radius: 50%;\n",
              "      cursor: pointer;\n",
              "      display: none;\n",
              "      fill: #1967D2;\n",
              "      height: 32px;\n",
              "      padding: 0 0 0 0;\n",
              "      width: 32px;\n",
              "    }\n",
              "\n",
              "    .colab-df-convert:hover {\n",
              "      background-color: #E2EBFA;\n",
              "      box-shadow: 0px 1px 2px rgba(60, 64, 67, 0.3), 0px 1px 3px 1px rgba(60, 64, 67, 0.15);\n",
              "      fill: #174EA6;\n",
              "    }\n",
              "\n",
              "    [theme=dark] .colab-df-convert {\n",
              "      background-color: #3B4455;\n",
              "      fill: #D2E3FC;\n",
              "    }\n",
              "\n",
              "    [theme=dark] .colab-df-convert:hover {\n",
              "      background-color: #434B5C;\n",
              "      box-shadow: 0px 1px 3px 1px rgba(0, 0, 0, 0.15);\n",
              "      filter: drop-shadow(0px 1px 2px rgba(0, 0, 0, 0.3));\n",
              "      fill: #FFFFFF;\n",
              "    }\n",
              "  </style>\n",
              "\n",
              "      <script>\n",
              "        const buttonEl =\n",
              "          document.querySelector('#df-766431e2-3237-4bf3-9a77-1912f6de83c6 button.colab-df-convert');\n",
              "        buttonEl.style.display =\n",
              "          google.colab.kernel.accessAllowed ? 'block' : 'none';\n",
              "\n",
              "        async function convertToInteractive(key) {\n",
              "          const element = document.querySelector('#df-766431e2-3237-4bf3-9a77-1912f6de83c6');\n",
              "          const dataTable =\n",
              "            await google.colab.kernel.invokeFunction('convertToInteractive',\n",
              "                                                     [key], {});\n",
              "          if (!dataTable) return;\n",
              "\n",
              "          const docLinkHtml = 'Like what you see? Visit the ' +\n",
              "            '<a target=\"_blank\" href=https://colab.research.google.com/notebooks/data_table.ipynb>data table notebook</a>'\n",
              "            + ' to learn more about interactive tables.';\n",
              "          element.innerHTML = '';\n",
              "          dataTable['output_type'] = 'display_data';\n",
              "          await google.colab.output.renderOutput(dataTable, element);\n",
              "          const docLink = document.createElement('div');\n",
              "          docLink.innerHTML = docLinkHtml;\n",
              "          element.appendChild(docLink);\n",
              "        }\n",
              "      </script>\n",
              "    </div>\n",
              "  </div>\n",
              "  "
            ],
            "text/plain": [
              "                             File Name                          Extension\n",
              "0                 43_1_after_vflip.jpg               43_1_after_vflip.txt\n",
              "1                       02_1_after.jpg                     02_1_after.txt\n",
              "2                43_1_after_rot270.jpg              43_1_after_rot270.txt\n",
              "3    ESP_016773_2010_RED-0041-r270.jpg  ESP_016773_2010_RED-0041-r270.txt\n",
              "4                       09_1_after.jpg                     09_1_after.txt\n",
              "..                                 ...                                ...\n",
              "603       ESP_018735_2815_RED-0041.jpg       ESP_018735_2815_RED-0041.txt\n",
              "604       ESP_018720_2655_RED-0064.jpg       ESP_018720_2655_RED-0064.txt\n",
              "605       ESP_033955_2065_RED-0038.jpg       ESP_033955_2065_RED-0038.txt\n",
              "606       ESP_033955_2065_RED-0032.jpg       ESP_033955_2065_RED-0032.txt\n",
              "607       ESP_018720_2655_RED-0081.jpg       ESP_018720_2655_RED-0081.txt\n",
              "\n",
              "[608 rows x 2 columns]"
            ]
          },
          "metadata": {},
          "execution_count": 183
        }
      ]
    },
    {
      "cell_type": "code",
      "source": [
        "list_44=Train_Images['Extension'].to_list()"
      ],
      "metadata": {
        "id": "lv_BkXNhpLxF"
      },
      "execution_count": null,
      "outputs": []
    },
    {
      "cell_type": "code",
      "source": [
        "import shutil\n",
        "import os \n",
        "\n",
        "classes_dir = ['Dark Dunes _COCO'] #total labels\n",
        "#/content/gdrive/MyDrive/Omdena_Ahmedabad/After_Annotations/Final Dataset/Dark Dunes _COCO\n",
        "destination = '/content/gdrive/MyDrive/Omdena_Ahmedabad/After_Annotations/Final Dataset/train'\n",
        "path = '/content/gdrive/MyDrive/Omdena_Ahmedabad/After_Annotations/Final Dataset/'\n",
        "for i in classes_dir:\n",
        "  pre_source = os.path.join(path, i)\n",
        "  for j in os.listdir(pre_source):\n",
        "    #print(os.path.join(pre_source, j))\n",
        "    if j in list_44:\n",
        "      source = os.path.join(pre_source, j)\n",
        "      shutil.copy2(source,destination)\n",
        "      print(source) "
      ],
      "metadata": {
        "colab": {
          "base_uri": "https://localhost:8080/"
        },
        "id": "8ZyAwqN5lNFN",
        "outputId": "ab97a838-372e-4cec-9793-dc60a79dfbb8"
      },
      "execution_count": null,
      "outputs": [
        {
          "output_type": "stream",
          "name": "stdout",
          "text": [
            "/content/gdrive/MyDrive/Omdena_Ahmedabad/After_Annotations/Final Dataset/Dark Dunes _COCO/ESP_014429_1940_RED-0028.txt\n",
            "/content/gdrive/MyDrive/Omdena_Ahmedabad/After_Annotations/Final Dataset/Dark Dunes _COCO/ESP_014429_1940_RED-0031.txt\n",
            "/content/gdrive/MyDrive/Omdena_Ahmedabad/After_Annotations/Final Dataset/Dark Dunes _COCO/ESP_014429_1940_RED-0069.txt\n",
            "/content/gdrive/MyDrive/Omdena_Ahmedabad/After_Annotations/Final Dataset/Dark Dunes _COCO/ESP_014429_1940_RED-0079.txt\n",
            "/content/gdrive/MyDrive/Omdena_Ahmedabad/After_Annotations/Final Dataset/Dark Dunes _COCO/ESP_014429_1940_RED-0081.txt\n",
            "/content/gdrive/MyDrive/Omdena_Ahmedabad/After_Annotations/Final Dataset/Dark Dunes _COCO/ESP_014429_1940_RED-0092.txt\n",
            "/content/gdrive/MyDrive/Omdena_Ahmedabad/After_Annotations/Final Dataset/Dark Dunes _COCO/ESP_014429_1940_RED-0115.txt\n",
            "/content/gdrive/MyDrive/Omdena_Ahmedabad/After_Annotations/Final Dataset/Dark Dunes _COCO/ESP_014429_1940_RED-0134.txt\n",
            "/content/gdrive/MyDrive/Omdena_Ahmedabad/After_Annotations/Final Dataset/Dark Dunes _COCO/ESP_014429_1940_RED-0137.txt\n",
            "/content/gdrive/MyDrive/Omdena_Ahmedabad/After_Annotations/Final Dataset/Dark Dunes _COCO/ESP_017001_1805_RED-0172.txt\n",
            "/content/gdrive/MyDrive/Omdena_Ahmedabad/After_Annotations/Final Dataset/Dark Dunes _COCO/ESP_017001_1805_RED-0204.txt\n",
            "/content/gdrive/MyDrive/Omdena_Ahmedabad/After_Annotations/Final Dataset/Dark Dunes _COCO/ESP_018321_2565_RED-0017.txt\n",
            "/content/gdrive/MyDrive/Omdena_Ahmedabad/After_Annotations/Final Dataset/Dark Dunes _COCO/ESP_018321_2565_RED-0023.txt\n",
            "/content/gdrive/MyDrive/Omdena_Ahmedabad/After_Annotations/Final Dataset/Dark Dunes _COCO/ESP_018321_2565_RED-0024.txt\n",
            "/content/gdrive/MyDrive/Omdena_Ahmedabad/After_Annotations/Final Dataset/Dark Dunes _COCO/ESP_018321_2565_RED-0030.txt\n",
            "/content/gdrive/MyDrive/Omdena_Ahmedabad/After_Annotations/Final Dataset/Dark Dunes _COCO/ESP_018321_2565_RED-0034.txt\n",
            "/content/gdrive/MyDrive/Omdena_Ahmedabad/After_Annotations/Final Dataset/Dark Dunes _COCO/ESP_018321_2565_RED-0053.txt\n",
            "/content/gdrive/MyDrive/Omdena_Ahmedabad/After_Annotations/Final Dataset/Dark Dunes _COCO/ESP_018321_2565_RED-0068.txt\n",
            "/content/gdrive/MyDrive/Omdena_Ahmedabad/After_Annotations/Final Dataset/Dark Dunes _COCO/ESP_018334_2600_RED-0004.txt\n",
            "/content/gdrive/MyDrive/Omdena_Ahmedabad/After_Annotations/Final Dataset/Dark Dunes _COCO/ESP_018720_2655_RED-0017.txt\n",
            "/content/gdrive/MyDrive/Omdena_Ahmedabad/After_Annotations/Final Dataset/Dark Dunes _COCO/ESP_018720_2655_RED-0023.txt\n",
            "/content/gdrive/MyDrive/Omdena_Ahmedabad/After_Annotations/Final Dataset/Dark Dunes _COCO/ESP_018720_2655_RED-0035.txt\n",
            "/content/gdrive/MyDrive/Omdena_Ahmedabad/After_Annotations/Final Dataset/Dark Dunes _COCO/ESP_018720_2655_RED-0038.txt\n",
            "/content/gdrive/MyDrive/Omdena_Ahmedabad/After_Annotations/Final Dataset/Dark Dunes _COCO/ESP_018720_2655_RED-0041.txt\n",
            "/content/gdrive/MyDrive/Omdena_Ahmedabad/After_Annotations/Final Dataset/Dark Dunes _COCO/ESP_018720_2655_RED-0042.txt\n",
            "/content/gdrive/MyDrive/Omdena_Ahmedabad/After_Annotations/Final Dataset/Dark Dunes _COCO/ESP_018720_2655_RED-0043.txt\n",
            "/content/gdrive/MyDrive/Omdena_Ahmedabad/After_Annotations/Final Dataset/Dark Dunes _COCO/ESP_018720_2655_RED-0046.txt\n",
            "/content/gdrive/MyDrive/Omdena_Ahmedabad/After_Annotations/Final Dataset/Dark Dunes _COCO/ESP_018720_2655_RED-0051.txt\n",
            "/content/gdrive/MyDrive/Omdena_Ahmedabad/After_Annotations/Final Dataset/Dark Dunes _COCO/ESP_018720_2655_RED-0052.txt\n",
            "/content/gdrive/MyDrive/Omdena_Ahmedabad/After_Annotations/Final Dataset/Dark Dunes _COCO/ESP_018720_2655_RED-0056.txt\n",
            "/content/gdrive/MyDrive/Omdena_Ahmedabad/After_Annotations/Final Dataset/Dark Dunes _COCO/ESP_018720_2655_RED-0060.txt\n",
            "/content/gdrive/MyDrive/Omdena_Ahmedabad/After_Annotations/Final Dataset/Dark Dunes _COCO/ESP_018720_2655_RED-0064.txt\n",
            "/content/gdrive/MyDrive/Omdena_Ahmedabad/After_Annotations/Final Dataset/Dark Dunes _COCO/ESP_018720_2655_RED-0066.txt\n",
            "/content/gdrive/MyDrive/Omdena_Ahmedabad/After_Annotations/Final Dataset/Dark Dunes _COCO/ESP_018720_2655_RED-0068.txt\n",
            "/content/gdrive/MyDrive/Omdena_Ahmedabad/After_Annotations/Final Dataset/Dark Dunes _COCO/ESP_018720_2655_RED-0069.txt\n",
            "/content/gdrive/MyDrive/Omdena_Ahmedabad/After_Annotations/Final Dataset/Dark Dunes _COCO/ESP_018720_2655_RED-0070.txt\n",
            "/content/gdrive/MyDrive/Omdena_Ahmedabad/After_Annotations/Final Dataset/Dark Dunes _COCO/ESP_018720_2655_RED-0071.txt\n",
            "/content/gdrive/MyDrive/Omdena_Ahmedabad/After_Annotations/Final Dataset/Dark Dunes _COCO/ESP_018720_2655_RED-0075.txt\n",
            "/content/gdrive/MyDrive/Omdena_Ahmedabad/After_Annotations/Final Dataset/Dark Dunes _COCO/ESP_018720_2655_RED-0076.txt\n",
            "/content/gdrive/MyDrive/Omdena_Ahmedabad/After_Annotations/Final Dataset/Dark Dunes _COCO/ESP_018720_2655_RED-0078.txt\n",
            "/content/gdrive/MyDrive/Omdena_Ahmedabad/After_Annotations/Final Dataset/Dark Dunes _COCO/ESP_018720_2655_RED-0081.txt\n",
            "/content/gdrive/MyDrive/Omdena_Ahmedabad/After_Annotations/Final Dataset/Dark Dunes _COCO/ESP_018720_2655_RED-0084.txt\n",
            "/content/gdrive/MyDrive/Omdena_Ahmedabad/After_Annotations/Final Dataset/Dark Dunes _COCO/ESP_018720_2655_RED-0089.txt\n",
            "/content/gdrive/MyDrive/Omdena_Ahmedabad/After_Annotations/Final Dataset/Dark Dunes _COCO/ESP_018720_2655_RED-0091.txt\n",
            "/content/gdrive/MyDrive/Omdena_Ahmedabad/After_Annotations/Final Dataset/Dark Dunes _COCO/ESP_018720_2655_RED-0092.txt\n",
            "/content/gdrive/MyDrive/Omdena_Ahmedabad/After_Annotations/Final Dataset/Dark Dunes _COCO/ESP_018720_2655_RED-0093.txt\n",
            "/content/gdrive/MyDrive/Omdena_Ahmedabad/After_Annotations/Final Dataset/Dark Dunes _COCO/ESP_018720_2655_RED-0096.txt\n",
            "/content/gdrive/MyDrive/Omdena_Ahmedabad/After_Annotations/Final Dataset/Dark Dunes _COCO/ESP_018720_2655_RED-0102.txt\n",
            "/content/gdrive/MyDrive/Omdena_Ahmedabad/After_Annotations/Final Dataset/Dark Dunes _COCO/ESP_018720_2655_RED-0105.txt\n",
            "/content/gdrive/MyDrive/Omdena_Ahmedabad/After_Annotations/Final Dataset/Dark Dunes _COCO/ESP_018720_2655_RED-0119.txt\n",
            "/content/gdrive/MyDrive/Omdena_Ahmedabad/After_Annotations/Final Dataset/Dark Dunes _COCO/ESP_018720_2655_RED-0120.txt\n",
            "/content/gdrive/MyDrive/Omdena_Ahmedabad/After_Annotations/Final Dataset/Dark Dunes _COCO/ESP_018720_2655_RED-0124.txt\n",
            "/content/gdrive/MyDrive/Omdena_Ahmedabad/After_Annotations/Final Dataset/Dark Dunes _COCO/ESP_018720_2655_RED-0126.txt\n",
            "/content/gdrive/MyDrive/Omdena_Ahmedabad/After_Annotations/Final Dataset/Dark Dunes _COCO/ESP_018720_2655_RED-0127.txt\n",
            "/content/gdrive/MyDrive/Omdena_Ahmedabad/After_Annotations/Final Dataset/Dark Dunes _COCO/ESP_018720_2655_RED-0132.txt\n",
            "/content/gdrive/MyDrive/Omdena_Ahmedabad/After_Annotations/Final Dataset/Dark Dunes _COCO/ESP_018720_2655_RED-0136.txt\n",
            "/content/gdrive/MyDrive/Omdena_Ahmedabad/After_Annotations/Final Dataset/Dark Dunes _COCO/ESP_018720_2655_RED-0145.txt\n",
            "/content/gdrive/MyDrive/Omdena_Ahmedabad/After_Annotations/Final Dataset/Dark Dunes _COCO/ESP_018720_2655_RED-0148.txt\n",
            "/content/gdrive/MyDrive/Omdena_Ahmedabad/After_Annotations/Final Dataset/Dark Dunes _COCO/ESP_018720_2655_RED-0155.txt\n",
            "/content/gdrive/MyDrive/Omdena_Ahmedabad/After_Annotations/Final Dataset/Dark Dunes _COCO/ESP_018720_2655_RED-0157.txt\n",
            "/content/gdrive/MyDrive/Omdena_Ahmedabad/After_Annotations/Final Dataset/Dark Dunes _COCO/ESP_018720_2655_RED-0159.txt\n",
            "/content/gdrive/MyDrive/Omdena_Ahmedabad/After_Annotations/Final Dataset/Dark Dunes _COCO/ESP_018735_2815_RED-0018.txt\n",
            "/content/gdrive/MyDrive/Omdena_Ahmedabad/After_Annotations/Final Dataset/Dark Dunes _COCO/ESP_018735_2815_RED-0023.txt\n",
            "/content/gdrive/MyDrive/Omdena_Ahmedabad/After_Annotations/Final Dataset/Dark Dunes _COCO/ESP_018735_2815_RED-0028.txt\n",
            "/content/gdrive/MyDrive/Omdena_Ahmedabad/After_Annotations/Final Dataset/Dark Dunes _COCO/ESP_018735_2815_RED-0031.txt\n",
            "/content/gdrive/MyDrive/Omdena_Ahmedabad/After_Annotations/Final Dataset/Dark Dunes _COCO/ESP_018735_2815_RED-0039.txt\n",
            "/content/gdrive/MyDrive/Omdena_Ahmedabad/After_Annotations/Final Dataset/Dark Dunes _COCO/ESP_018735_2815_RED-0041.txt\n",
            "/content/gdrive/MyDrive/Omdena_Ahmedabad/After_Annotations/Final Dataset/Dark Dunes _COCO/ESP_018735_2815_RED-0042.txt\n",
            "/content/gdrive/MyDrive/Omdena_Ahmedabad/After_Annotations/Final Dataset/Dark Dunes _COCO/ESP_018735_2815_RED-0046.txt\n",
            "/content/gdrive/MyDrive/Omdena_Ahmedabad/After_Annotations/Final Dataset/Dark Dunes _COCO/ESP_018735_2815_RED-0048.txt\n",
            "/content/gdrive/MyDrive/Omdena_Ahmedabad/After_Annotations/Final Dataset/Dark Dunes _COCO/ESP_018735_2815_RED-0059.txt\n",
            "/content/gdrive/MyDrive/Omdena_Ahmedabad/After_Annotations/Final Dataset/Dark Dunes _COCO/ESP_018735_2815_RED-0067.txt\n",
            "/content/gdrive/MyDrive/Omdena_Ahmedabad/After_Annotations/Final Dataset/Dark Dunes _COCO/ESP_018815_2570_RED-0000.txt\n",
            "/content/gdrive/MyDrive/Omdena_Ahmedabad/After_Annotations/Final Dataset/Dark Dunes _COCO/ESP_018815_2570_RED-0003.txt\n",
            "/content/gdrive/MyDrive/Omdena_Ahmedabad/After_Annotations/Final Dataset/Dark Dunes _COCO/ESP_018815_2570_RED-0004.txt\n",
            "/content/gdrive/MyDrive/Omdena_Ahmedabad/After_Annotations/Final Dataset/Dark Dunes _COCO/ESP_018815_2570_RED-0009.txt\n",
            "/content/gdrive/MyDrive/Omdena_Ahmedabad/After_Annotations/Final Dataset/Dark Dunes _COCO/ESP_018815_2570_RED-0010.txt\n",
            "/content/gdrive/MyDrive/Omdena_Ahmedabad/After_Annotations/Final Dataset/Dark Dunes _COCO/ESP_018815_2570_RED-0012.txt\n",
            "/content/gdrive/MyDrive/Omdena_Ahmedabad/After_Annotations/Final Dataset/Dark Dunes _COCO/ESP_019559_1390_RED-0466.txt\n",
            "/content/gdrive/MyDrive/Omdena_Ahmedabad/After_Annotations/Final Dataset/Dark Dunes _COCO/ESP_019559_1390_RED-0512.txt\n",
            "/content/gdrive/MyDrive/Omdena_Ahmedabad/After_Annotations/Final Dataset/Dark Dunes _COCO/ESP_019559_1390_RED-0576.txt\n",
            "/content/gdrive/MyDrive/Omdena_Ahmedabad/After_Annotations/Final Dataset/Dark Dunes _COCO/ESP_019559_1390_RED-0583.txt\n",
            "/content/gdrive/MyDrive/Omdena_Ahmedabad/After_Annotations/Final Dataset/Dark Dunes _COCO/ESP_019559_1390_RED-0645.txt\n",
            "/content/gdrive/MyDrive/Omdena_Ahmedabad/After_Annotations/Final Dataset/Dark Dunes _COCO/ESP_019559_1390_RED-0698.txt\n",
            "/content/gdrive/MyDrive/Omdena_Ahmedabad/After_Annotations/Final Dataset/Dark Dunes _COCO/ESP_019559_1390_RED-0699.txt\n",
            "/content/gdrive/MyDrive/Omdena_Ahmedabad/After_Annotations/Final Dataset/Dark Dunes _COCO/ESP_019559_1390_RED-0701.txt\n",
            "/content/gdrive/MyDrive/Omdena_Ahmedabad/After_Annotations/Final Dataset/Dark Dunes _COCO/ESP_019559_1390_RED-0734.txt\n",
            "/content/gdrive/MyDrive/Omdena_Ahmedabad/After_Annotations/Final Dataset/Dark Dunes _COCO/ESP_019559_1390_RED-0804.txt\n",
            "/content/gdrive/MyDrive/Omdena_Ahmedabad/After_Annotations/Final Dataset/Dark Dunes _COCO/ESP_019559_1390_RED-0951.txt\n",
            "/content/gdrive/MyDrive/Omdena_Ahmedabad/After_Annotations/Final Dataset/Dark Dunes _COCO/ESP_026247_1650_RED-0170.txt\n",
            "/content/gdrive/MyDrive/Omdena_Ahmedabad/After_Annotations/Final Dataset/Dark Dunes _COCO/ESP_033955_2065_RED-0015.txt\n",
            "/content/gdrive/MyDrive/Omdena_Ahmedabad/After_Annotations/Final Dataset/Dark Dunes _COCO/ESP_033955_2065_RED-0019.txt\n",
            "/content/gdrive/MyDrive/Omdena_Ahmedabad/After_Annotations/Final Dataset/Dark Dunes _COCO/ESP_033955_2065_RED-0021.txt\n",
            "/content/gdrive/MyDrive/Omdena_Ahmedabad/After_Annotations/Final Dataset/Dark Dunes _COCO/ESP_033955_2065_RED-0022.txt\n",
            "/content/gdrive/MyDrive/Omdena_Ahmedabad/After_Annotations/Final Dataset/Dark Dunes _COCO/ESP_033955_2065_RED-0024.txt\n",
            "/content/gdrive/MyDrive/Omdena_Ahmedabad/After_Annotations/Final Dataset/Dark Dunes _COCO/ESP_033955_2065_RED-0027.txt\n",
            "/content/gdrive/MyDrive/Omdena_Ahmedabad/After_Annotations/Final Dataset/Dark Dunes _COCO/ESP_033955_2065_RED-0030.txt\n",
            "/content/gdrive/MyDrive/Omdena_Ahmedabad/After_Annotations/Final Dataset/Dark Dunes _COCO/ESP_033955_2065_RED-0032.txt\n",
            "/content/gdrive/MyDrive/Omdena_Ahmedabad/After_Annotations/Final Dataset/Dark Dunes _COCO/ESP_033955_2065_RED-0034.txt\n",
            "/content/gdrive/MyDrive/Omdena_Ahmedabad/After_Annotations/Final Dataset/Dark Dunes _COCO/ESP_033955_2065_RED-0035.txt\n",
            "/content/gdrive/MyDrive/Omdena_Ahmedabad/After_Annotations/Final Dataset/Dark Dunes _COCO/ESP_033955_2065_RED-0037.txt\n",
            "/content/gdrive/MyDrive/Omdena_Ahmedabad/After_Annotations/Final Dataset/Dark Dunes _COCO/ESP_033955_2065_RED-0038.txt\n",
            "/content/gdrive/MyDrive/Omdena_Ahmedabad/After_Annotations/Final Dataset/Dark Dunes _COCO/ESP_033955_2065_RED-0039.txt\n",
            "/content/gdrive/MyDrive/Omdena_Ahmedabad/After_Annotations/Final Dataset/Dark Dunes _COCO/ESP_033955_2065_RED-0042.txt\n",
            "/content/gdrive/MyDrive/Omdena_Ahmedabad/After_Annotations/Final Dataset/Dark Dunes _COCO/ESP_033955_2065_RED-0047.txt\n",
            "/content/gdrive/MyDrive/Omdena_Ahmedabad/After_Annotations/Final Dataset/Dark Dunes _COCO/ESP_033955_2065_RED-0048.txt\n",
            "/content/gdrive/MyDrive/Omdena_Ahmedabad/After_Annotations/Final Dataset/Dark Dunes _COCO/ESP_033955_2065_RED-0054.txt\n",
            "/content/gdrive/MyDrive/Omdena_Ahmedabad/After_Annotations/Final Dataset/Dark Dunes _COCO/ESP_036217_2580_RED-0004.txt\n",
            "/content/gdrive/MyDrive/Omdena_Ahmedabad/After_Annotations/Final Dataset/Dark Dunes _COCO/ESP_036217_2580_RED-0005.txt\n",
            "/content/gdrive/MyDrive/Omdena_Ahmedabad/After_Annotations/Final Dataset/Dark Dunes _COCO/ESP_036217_2580_RED-0007.txt\n",
            "/content/gdrive/MyDrive/Omdena_Ahmedabad/After_Annotations/Final Dataset/Dark Dunes _COCO/ESP_036217_2580_RED-0008.txt\n",
            "/content/gdrive/MyDrive/Omdena_Ahmedabad/After_Annotations/Final Dataset/Dark Dunes _COCO/PSP_002455_1320_RED-0058.txt\n",
            "/content/gdrive/MyDrive/Omdena_Ahmedabad/After_Annotations/Final Dataset/Dark Dunes _COCO/PSP_002455_1320_RED-0069.txt\n",
            "/content/gdrive/MyDrive/Omdena_Ahmedabad/After_Annotations/Final Dataset/Dark Dunes _COCO/PSP_002455_1320_RED-0070.txt\n",
            "/content/gdrive/MyDrive/Omdena_Ahmedabad/After_Annotations/Final Dataset/Dark Dunes _COCO/PSP_002455_1320_RED-0074.txt\n",
            "/content/gdrive/MyDrive/Omdena_Ahmedabad/After_Annotations/Final Dataset/Dark Dunes _COCO/PSP_002455_1320_RED-0078.txt\n",
            "/content/gdrive/MyDrive/Omdena_Ahmedabad/After_Annotations/Final Dataset/Dark Dunes _COCO/PSP_002455_1320_RED-0084.txt\n",
            "/content/gdrive/MyDrive/Omdena_Ahmedabad/After_Annotations/Final Dataset/Dark Dunes _COCO/PSP_002455_1320_RED-0089.txt\n",
            "/content/gdrive/MyDrive/Omdena_Ahmedabad/After_Annotations/Final Dataset/Dark Dunes _COCO/PSP_002455_1320_RED-0099.txt\n",
            "/content/gdrive/MyDrive/Omdena_Ahmedabad/After_Annotations/Final Dataset/Dark Dunes _COCO/PSP_002455_1320_RED-0106.txt\n",
            "/content/gdrive/MyDrive/Omdena_Ahmedabad/After_Annotations/Final Dataset/Dark Dunes _COCO/PSP_002455_1320_RED-0108.txt\n",
            "/content/gdrive/MyDrive/Omdena_Ahmedabad/After_Annotations/Final Dataset/Dark Dunes _COCO/PSP_002455_1320_RED-0110.txt\n"
          ]
        }
      ]
    },
    {
      "cell_type": "code",
      "source": [
        "source='/content/gdrive/MyDrive/Omdena_Ahmedabad/After_Annotations/Final Dataset/val'\n",
        "len(os.listdir(source))"
      ],
      "metadata": {
        "colab": {
          "base_uri": "https://localhost:8080/"
        },
        "id": "cUvznc9Ol1Cs",
        "outputId": "1af2e7b9-51de-4e17-c35d-2482f003e94a"
      },
      "execution_count": null,
      "outputs": [
        {
          "output_type": "execute_result",
          "data": {
            "text/plain": [
              "320"
            ]
          },
          "metadata": {},
          "execution_count": 139
        }
      ]
    },
    {
      "cell_type": "code",
      "source": [
        "source='/content/gdrive/MyDrive/Omdena_Ahmedabad/After_Annotations/Final Dataset'\n",
        "os.listdir(source)"
      ],
      "metadata": {
        "colab": {
          "base_uri": "https://localhost:8080/"
        },
        "id": "UVb0vS5fl080",
        "outputId": "ba33a8df-8099-4377-9d2c-2dd23efb3747"
      },
      "execution_count": null,
      "outputs": [
        {
          "output_type": "execute_result",
          "data": {
            "text/plain": [
              "['HiRise_swiss_cheese',\n",
              " 'Impact Ejecta Dataset',\n",
              " 'Bright Dune',\n",
              " 'Slope Streak',\n",
              " 'Spider',\n",
              " 'Crater Dataset',\n",
              " 'Bright_Dune_COCO',\n",
              " 'Crater_DataSet_COCO',\n",
              " 'Spider_COCO',\n",
              " 'Impact Ejecta_COCO',\n",
              " 'HiRise_swiss_Cheese_COCO',\n",
              " 'Class_Slope_Streak_COCO',\n",
              " 'train',\n",
              " 'val',\n",
              " 'Dark Dunes',\n",
              " 'Dark Dunes _COCO']"
            ]
          },
          "metadata": {},
          "execution_count": 130
        }
      ]
    },
    {
      "cell_type": "code",
      "source": [
        "list_t=[]"
      ],
      "metadata": {
        "id": "VD2Ec4dQsLWG"
      },
      "execution_count": null,
      "outputs": []
    },
    {
      "cell_type": "code",
      "source": [
        "import glob, os\n",
        "os.chdir(\"/content/gdrive/MyDrive/Omdena_Ahmedabad/After_Annotations/Final Dataset/train\")\n",
        "for file in glob.glob(\"*.txt\"):\n",
        "    list_t.append(file)\n",
        "len(list_t)"
      ],
      "metadata": {
        "colab": {
          "base_uri": "https://localhost:8080/"
        },
        "id": "tJV2CZr8sFs7",
        "outputId": "1ee7228f-da68-40f7-c95c-1f007b99d78f"
      },
      "execution_count": null,
      "outputs": [
        {
          "output_type": "execute_result",
          "data": {
            "text/plain": [
              "600"
            ]
          },
          "metadata": {},
          "execution_count": 202
        }
      ]
    },
    {
      "cell_type": "code",
      "source": [
        "list_v=[]"
      ],
      "metadata": {
        "id": "XYEKM2NSsjhZ"
      },
      "execution_count": null,
      "outputs": []
    },
    {
      "cell_type": "code",
      "source": [
        "import glob, os\n",
        "os.chdir(\"/content/gdrive/My Drive/Omdena_Ahmedabad/After_Annotations/Final Dataset/train\")\n",
        "for file in glob.glob(\"*.jpg\"):\n",
        "    list_v.append(file)\n",
        "len(list_v)"
      ],
      "metadata": {
        "colab": {
          "base_uri": "https://localhost:8080/"
        },
        "id": "SOrWByVKsPHa",
        "outputId": "1d94a728-cd86-446c-c3e8-d9791daaba75"
      },
      "execution_count": null,
      "outputs": [
        {
          "output_type": "execute_result",
          "data": {
            "text/plain": [
              "600"
            ]
          },
          "metadata": {},
          "execution_count": 204
        }
      ]
    },
    {
      "cell_type": "code",
      "source": [
        "list_v1 = []\n",
        "list_t1 = []\n",
        "\n",
        "\n",
        "for x in list_t:\n",
        "  x= x.split('.')[0]\n",
        "  list_t1.append(x)\n",
        "\n",
        "for x in list_v:\n",
        "  x= x.split('.')[0]\n",
        "  list_v1.append(x)\n",
        "\n",
        "for x in list_v1:\n",
        "  if x not in list_t1:\n",
        "    print(x)"
      ],
      "metadata": {
        "id": "MbemvgJ9sxji"
      },
      "execution_count": null,
      "outputs": []
    },
    {
      "cell_type": "code",
      "source": [
        "import os\n",
        "path = '/content/gdrive/MyDrive/Omdena_Ahmedabad/After_Annotations/Final Dataset/train'\n",
        "lllll=['ESP_013161_1715_RED-0058-fh.jpg',\n",
        "'ESP_016576_2570_RED-0016.jpg',\n",
        "'PSP_003470_0930_RED-0127.jpg',\n",
        "'ESP_011623_2100_RED-0083-fv.jpg',\n",
        "'ESP_011289_1950_RED-0211.jpg',\n",
        "'ESP_018720_2655_RED-0140.jpg',\n",
        "'PSP_002455_1320_RED-0080.jpg',\n",
        "'ESP_019559_1390_RED-0608.jpg']\n",
        "for i in lllll:\n",
        "  x=os.path.join(path,i)\n",
        "  os.remove(x)"
      ],
      "metadata": {
        "id": "EaPj_joJ0RLU"
      },
      "execution_count": null,
      "outputs": []
    },
    {
      "cell_type": "code",
      "source": [
        "Val_txt=[]"
      ],
      "metadata": {
        "id": "Crb_y-w04zZB"
      },
      "execution_count": null,
      "outputs": []
    },
    {
      "cell_type": "code",
      "source": [
        "import shutil\n",
        "import os \n",
        "\n",
        "path = '/content/gdrive/MyDrive/Omdena_Ahmedabad/After_Annotations/Final Dataset/val/'\n",
        "\n",
        "x= os.listdir(path)\n",
        "for i in x:\n",
        "  if i.endswith('.jpg'):\n",
        "      source = os.path.join(path, i)\n",
        "      Val_txt.append(source)\n",
        "      print(source) "
      ],
      "metadata": {
        "colab": {
          "base_uri": "https://localhost:8080/"
        },
        "id": "s4hRmoiV4Ymf",
        "outputId": "20ca4934-2746-4645-d27c-d417b11b7b26"
      },
      "execution_count": null,
      "outputs": [
        {
          "output_type": "stream",
          "name": "stdout",
          "text": [
            "/content/gdrive/MyDrive/Omdena_Ahmedabad/After_Annotations/Final Dataset/val/ESP_016631_2535_RED-0003-fv.jpg\n",
            "/content/gdrive/MyDrive/Omdena_Ahmedabad/After_Annotations/Final Dataset/val/ESP_016631_2535_RED-0012-fv.jpg\n",
            "/content/gdrive/MyDrive/Omdena_Ahmedabad/After_Annotations/Final Dataset/val/ESP_016631_2535_RED-0002-r180.jpg\n",
            "/content/gdrive/MyDrive/Omdena_Ahmedabad/After_Annotations/Final Dataset/val/ESP_016576_2570_RED-0017-brt.jpg\n",
            "/content/gdrive/MyDrive/Omdena_Ahmedabad/After_Annotations/Final Dataset/val/ESP_016631_2535_RED-0006-r180.jpg\n",
            "/content/gdrive/MyDrive/Omdena_Ahmedabad/After_Annotations/Final Dataset/val/ESP_016576_2570_RED-0005-brt.jpg\n",
            "/content/gdrive/MyDrive/Omdena_Ahmedabad/After_Annotations/Final Dataset/val/ESP_016576_2570_RED-0020.jpg\n",
            "/content/gdrive/MyDrive/Omdena_Ahmedabad/After_Annotations/Final Dataset/val/ESP_016576_2570_RED-0002-r270.jpg\n",
            "/content/gdrive/MyDrive/Omdena_Ahmedabad/After_Annotations/Final Dataset/val/ESP_016631_2535_RED-0002-fh.jpg\n",
            "/content/gdrive/MyDrive/Omdena_Ahmedabad/After_Annotations/Final Dataset/val/ESP_016631_2535_RED-0004.jpg\n",
            "/content/gdrive/MyDrive/Omdena_Ahmedabad/After_Annotations/Final Dataset/val/ESP_016631_2535_RED-0006-brt.jpg\n",
            "/content/gdrive/MyDrive/Omdena_Ahmedabad/After_Annotations/Final Dataset/val/ESP_016683_2535_RED-0003-r270.jpg\n",
            "/content/gdrive/MyDrive/Omdena_Ahmedabad/After_Annotations/Final Dataset/val/ESP_016576_2570_RED-0005-r270.jpg\n",
            "/content/gdrive/MyDrive/Omdena_Ahmedabad/After_Annotations/Final Dataset/val/ESP_016576_2570_RED-0020-fh.jpg\n",
            "/content/gdrive/MyDrive/Omdena_Ahmedabad/After_Annotations/Final Dataset/val/ESP_016683_2535_RED-0026-r180.jpg\n",
            "/content/gdrive/MyDrive/Omdena_Ahmedabad/After_Annotations/Final Dataset/val/ESP_016576_2570_RED-0002-brt.jpg\n",
            "/content/gdrive/MyDrive/Omdena_Ahmedabad/After_Annotations/Final Dataset/val/ESP_016631_2535_RED-0006-fh.jpg\n",
            "/content/gdrive/MyDrive/Omdena_Ahmedabad/After_Annotations/Final Dataset/val/ESP_016683_2535_RED-0029-brt.jpg\n",
            "/content/gdrive/MyDrive/Omdena_Ahmedabad/After_Annotations/Final Dataset/val/ESP_016683_2535_RED-0027-fv.jpg\n",
            "/content/gdrive/MyDrive/Omdena_Ahmedabad/After_Annotations/Final Dataset/val/ESP_016631_2535_RED-0013-fh.jpg\n",
            "/content/gdrive/MyDrive/Omdena_Ahmedabad/After_Annotations/Final Dataset/val/ESP_016631_2535_RED-0003-brt.jpg\n",
            "/content/gdrive/MyDrive/Omdena_Ahmedabad/After_Annotations/Final Dataset/val/ESP_016631_2535_RED-0012-r90.jpg\n",
            "/content/gdrive/MyDrive/Omdena_Ahmedabad/After_Annotations/Final Dataset/val/ESP_016631_2535_RED-0004-r270.jpg\n",
            "/content/gdrive/MyDrive/Omdena_Ahmedabad/After_Annotations/Final Dataset/val/ESP_016576_2570_RED-0019-fv.jpg\n",
            "/content/gdrive/MyDrive/Omdena_Ahmedabad/After_Annotations/Final Dataset/val/ESP_016576_2570_RED-0002-r90.jpg\n",
            "/content/gdrive/MyDrive/Omdena_Ahmedabad/After_Annotations/Final Dataset/val/ESP_016683_2535_RED-0029-r90.jpg\n",
            "/content/gdrive/MyDrive/Omdena_Ahmedabad/After_Annotations/Final Dataset/val/ESP_016631_2535_RED-0011-r270.jpg\n",
            "/content/gdrive/MyDrive/Omdena_Ahmedabad/After_Annotations/Final Dataset/val/ESP_016576_2570_RED-0017-r90.jpg\n",
            "/content/gdrive/MyDrive/Omdena_Ahmedabad/After_Annotations/Final Dataset/val/ESP_016631_2535_RED-0012.jpg\n",
            "/content/gdrive/MyDrive/Omdena_Ahmedabad/After_Annotations/Final Dataset/val/ESP_016683_2535_RED-0003-fv.jpg\n",
            "/content/gdrive/MyDrive/Omdena_Ahmedabad/After_Annotations/Final Dataset/val/ESP_016631_2535_RED-0006-r90.jpg\n",
            "/content/gdrive/MyDrive/Omdena_Ahmedabad/After_Annotations/Final Dataset/val/ESP_016576_2570_RED-0020-r270.jpg\n",
            "/content/gdrive/MyDrive/Omdena_Ahmedabad/After_Annotations/Final Dataset/val/ESP_016576_2570_RED-0017-r270.jpg\n",
            "/content/gdrive/MyDrive/Omdena_Ahmedabad/After_Annotations/Final Dataset/val/ESP_012687_1930_RED-0043-fh.jpg\n",
            "/content/gdrive/MyDrive/Omdena_Ahmedabad/After_Annotations/Final Dataset/val/ESP_018840_1865_RED-0013-fh.jpg\n",
            "/content/gdrive/MyDrive/Omdena_Ahmedabad/After_Annotations/Final Dataset/val/ESP_018840_1865_RED-0060-r90.jpg\n",
            "/content/gdrive/MyDrive/Omdena_Ahmedabad/After_Annotations/Final Dataset/val/ESP_018416_2060_RED-0147-fv.jpg\n",
            "/content/gdrive/MyDrive/Omdena_Ahmedabad/After_Annotations/Final Dataset/val/ESP_012700_2025_RED-0031-r180.jpg\n",
            "/content/gdrive/MyDrive/Omdena_Ahmedabad/After_Annotations/Final Dataset/val/ESP_016715_2025_RED-0108-fh.jpg\n",
            "/content/gdrive/MyDrive/Omdena_Ahmedabad/After_Annotations/Final Dataset/val/ESP_018840_1865_RED-0060-brt.jpg\n",
            "/content/gdrive/MyDrive/Omdena_Ahmedabad/After_Annotations/Final Dataset/val/ESP_019133_1975_RED-0002-r270.jpg\n",
            "/content/gdrive/MyDrive/Omdena_Ahmedabad/After_Annotations/Final Dataset/val/ESP_019781_1945_RED-0070.jpg\n",
            "/content/gdrive/MyDrive/Omdena_Ahmedabad/After_Annotations/Final Dataset/val/ESP_019340_1875_RED-0137-r270.jpg\n",
            "/content/gdrive/MyDrive/Omdena_Ahmedabad/After_Annotations/Final Dataset/val/ESP_016715_2025_RED-0042-r270.jpg\n",
            "/content/gdrive/MyDrive/Omdena_Ahmedabad/After_Annotations/Final Dataset/val/ESP_016607_2080_RED-0261-fh.jpg\n",
            "/content/gdrive/MyDrive/Omdena_Ahmedabad/After_Annotations/Final Dataset/val/ESP_018416_2060_RED-0115-fh.jpg\n",
            "/content/gdrive/MyDrive/Omdena_Ahmedabad/After_Annotations/Final Dataset/val/ESP_016781_2055_RED-0241-brt.jpg\n",
            "/content/gdrive/MyDrive/Omdena_Ahmedabad/After_Annotations/Final Dataset/val/ESP_016781_2055_RED-0241-r180.jpg\n",
            "/content/gdrive/MyDrive/Omdena_Ahmedabad/After_Annotations/Final Dataset/val/ESP_016781_2055_RED-0146-fv.jpg\n",
            "/content/gdrive/MyDrive/Omdena_Ahmedabad/After_Annotations/Final Dataset/val/ESP_012687_1930_RED-0043-r270.jpg\n",
            "/content/gdrive/MyDrive/Omdena_Ahmedabad/After_Annotations/Final Dataset/val/ESP_018416_2060_RED-0147-brt.jpg\n",
            "/content/gdrive/MyDrive/Omdena_Ahmedabad/After_Annotations/Final Dataset/val/ESP_016781_2055_RED-0065-fh.jpg\n",
            "/content/gdrive/MyDrive/Omdena_Ahmedabad/After_Annotations/Final Dataset/val/ESP_012687_1930_RED-0043.jpg\n",
            "/content/gdrive/MyDrive/Omdena_Ahmedabad/After_Annotations/Final Dataset/val/PSP_003470_0930_RED-0004.jpg\n",
            "/content/gdrive/MyDrive/Omdena_Ahmedabad/After_Annotations/Final Dataset/val/PSP_003470_0930_RED-0059.jpg\n",
            "/content/gdrive/MyDrive/Omdena_Ahmedabad/After_Annotations/Final Dataset/val/ESP_046991_0950_RED-0032.jpg\n",
            "/content/gdrive/MyDrive/Omdena_Ahmedabad/After_Annotations/Final Dataset/val/ESP_046991_0950_RED-0003.jpg\n",
            "/content/gdrive/MyDrive/Omdena_Ahmedabad/After_Annotations/Final Dataset/val/PSP_003470_0930_RED-0007.jpg\n",
            "/content/gdrive/MyDrive/Omdena_Ahmedabad/After_Annotations/Final Dataset/val/PSP_003470_0930_RED-0035.jpg\n",
            "/content/gdrive/MyDrive/Omdena_Ahmedabad/After_Annotations/Final Dataset/val/ESP_046991_0950_RED-0013.jpg\n",
            "/content/gdrive/MyDrive/Omdena_Ahmedabad/After_Annotations/Final Dataset/val/ESP_049651_1050_RED-0086.jpg\n",
            "/content/gdrive/MyDrive/Omdena_Ahmedabad/After_Annotations/Final Dataset/val/ESP_049651_1050_RED-0073.jpg\n",
            "/content/gdrive/MyDrive/Omdena_Ahmedabad/After_Annotations/Final Dataset/val/ESP_049651_1050_RED-0089.jpg\n",
            "/content/gdrive/MyDrive/Omdena_Ahmedabad/After_Annotations/Final Dataset/val/PSP_003470_0930_RED-0144.jpg\n",
            "/content/gdrive/MyDrive/Omdena_Ahmedabad/After_Annotations/Final Dataset/val/ESP_049651_1050_RED-0006.jpg\n",
            "/content/gdrive/MyDrive/Omdena_Ahmedabad/After_Annotations/Final Dataset/val/PSP_003470_0930_RED-0057.jpg\n",
            "/content/gdrive/MyDrive/Omdena_Ahmedabad/After_Annotations/Final Dataset/val/ESP_016530_1465_RED-0040.jpg\n",
            "/content/gdrive/MyDrive/Omdena_Ahmedabad/After_Annotations/Final Dataset/val/ESP_011425_1775_RED-0004-fv.jpg\n",
            "/content/gdrive/MyDrive/Omdena_Ahmedabad/After_Annotations/Final Dataset/val/ESP_016630_1720_RED-0016-r270.jpg\n",
            "/content/gdrive/MyDrive/Omdena_Ahmedabad/After_Annotations/Final Dataset/val/ESP_011623_2100_RED-0470-brt.jpg\n",
            "/content/gdrive/MyDrive/Omdena_Ahmedabad/After_Annotations/Final Dataset/val/ESP_020606_1445_RED-0209-r90.jpg\n",
            "/content/gdrive/MyDrive/Omdena_Ahmedabad/After_Annotations/Final Dataset/val/ESP_026472_1410_RED-0134-r180.jpg\n",
            "/content/gdrive/MyDrive/Omdena_Ahmedabad/After_Annotations/Final Dataset/val/ESP_011623_2100_RED-0062-fv.jpg\n",
            "/content/gdrive/MyDrive/Omdena_Ahmedabad/After_Annotations/Final Dataset/val/ESP_026472_1410_RED-0109-r270.jpg\n",
            "/content/gdrive/MyDrive/Omdena_Ahmedabad/After_Annotations/Final Dataset/val/ESP_020606_1445_RED-0510.jpg\n",
            "/content/gdrive/MyDrive/Omdena_Ahmedabad/After_Annotations/Final Dataset/val/ESP_011881_1585_RED-0126-r90.jpg\n",
            "/content/gdrive/MyDrive/Omdena_Ahmedabad/After_Annotations/Final Dataset/val/ESP_016630_1720_RED-0060-r270.jpg\n",
            "/content/gdrive/MyDrive/Omdena_Ahmedabad/After_Annotations/Final Dataset/val/ESP_017541_1600_RED-0207-r180.jpg\n",
            "/content/gdrive/MyDrive/Omdena_Ahmedabad/After_Annotations/Final Dataset/val/ESP_020606_1445_RED-0239-r270.jpg\n",
            "/content/gdrive/MyDrive/Omdena_Ahmedabad/After_Annotations/Final Dataset/val/ESP_020606_1445_RED-0538.jpg\n",
            "/content/gdrive/MyDrive/Omdena_Ahmedabad/After_Annotations/Final Dataset/val/ESP_026472_1410_RED-0289-r270.jpg\n",
            "/content/gdrive/MyDrive/Omdena_Ahmedabad/After_Annotations/Final Dataset/val/ESP_011623_2100_RED-0106-fh.jpg\n",
            "/content/gdrive/MyDrive/Omdena_Ahmedabad/After_Annotations/Final Dataset/val/ESP_016572_1875_RED-0136-brt.jpg\n",
            "/content/gdrive/MyDrive/Omdena_Ahmedabad/After_Annotations/Final Dataset/val/ESP_012494_2050_RED-0126-fh.jpg\n",
            "/content/gdrive/MyDrive/Omdena_Ahmedabad/After_Annotations/Final Dataset/val/ESP_016607_2080_RED-0047-r90.jpg\n",
            "/content/gdrive/MyDrive/Omdena_Ahmedabad/After_Annotations/Final Dataset/val/ESP_016607_2080_RED-0081.jpg\n",
            "/content/gdrive/MyDrive/Omdena_Ahmedabad/After_Annotations/Final Dataset/val/ESP_012494_2050_RED-0066-brt.jpg\n",
            "/content/gdrive/MyDrive/Omdena_Ahmedabad/After_Annotations/Final Dataset/val/ESP_011623_2100_RED-0309-fh.jpg\n",
            "/content/gdrive/MyDrive/Omdena_Ahmedabad/After_Annotations/Final Dataset/val/ESP_011425_1775_RED-0016-fv.jpg\n",
            "/content/gdrive/MyDrive/Omdena_Ahmedabad/After_Annotations/Final Dataset/val/ESP_011623_2100_RED-0413-fh.jpg\n",
            "/content/gdrive/MyDrive/Omdena_Ahmedabad/After_Annotations/Final Dataset/val/ESP_020606_1445_RED-0575-r180.jpg\n",
            "/content/gdrive/MyDrive/Omdena_Ahmedabad/After_Annotations/Final Dataset/val/ESP_012971_2015_RED-0416-r270.jpg\n",
            "/content/gdrive/MyDrive/Omdena_Ahmedabad/After_Annotations/Final Dataset/val/PSP_004673_0935_RED-0017-r90.jpg\n",
            "/content/gdrive/MyDrive/Omdena_Ahmedabad/After_Annotations/Final Dataset/val/ESP_012810_0925_RED-0064.jpg\n",
            "/content/gdrive/MyDrive/Omdena_Ahmedabad/After_Annotations/Final Dataset/val/PSP_002804_0930_RED-0024-r90.jpg\n",
            "/content/gdrive/MyDrive/Omdena_Ahmedabad/After_Annotations/Final Dataset/val/ESP_012810_0925_RED-0111.jpg\n",
            "/content/gdrive/MyDrive/Omdena_Ahmedabad/After_Annotations/Final Dataset/val/ESP_012810_0925_RED-0071.jpg\n",
            "/content/gdrive/MyDrive/Omdena_Ahmedabad/After_Annotations/Final Dataset/val/ESP_012810_0925_RED-0060-r180.jpg\n",
            "/content/gdrive/MyDrive/Omdena_Ahmedabad/After_Annotations/Final Dataset/val/ESP_012810_0925_RED-0104.jpg\n",
            "/content/gdrive/MyDrive/Omdena_Ahmedabad/After_Annotations/Final Dataset/val/ESP_012810_0925_RED-0010-fh.jpg\n",
            "/content/gdrive/MyDrive/Omdena_Ahmedabad/After_Annotations/Final Dataset/val/ESP_012810_0925_RED-0124-r90.jpg\n",
            "/content/gdrive/MyDrive/Omdena_Ahmedabad/After_Annotations/Final Dataset/val/ESP_012810_0925_RED-0029-r180.jpg\n",
            "/content/gdrive/MyDrive/Omdena_Ahmedabad/After_Annotations/Final Dataset/val/ESP_012810_0925_RED-0099.jpg\n",
            "/content/gdrive/MyDrive/Omdena_Ahmedabad/After_Annotations/Final Dataset/val/ESP_012810_0925_RED-0134-fh.jpg\n",
            "/content/gdrive/MyDrive/Omdena_Ahmedabad/After_Annotations/Final Dataset/val/ESP_012810_0925_RED-0063-r90.jpg\n",
            "/content/gdrive/MyDrive/Omdena_Ahmedabad/After_Annotations/Final Dataset/val/PSP_005728_0935_RED-0024-r180.jpg\n",
            "/content/gdrive/MyDrive/Omdena_Ahmedabad/After_Annotations/Final Dataset/val/ESP_012810_0925_RED-0034-fh.jpg\n",
            "/content/gdrive/MyDrive/Omdena_Ahmedabad/After_Annotations/Final Dataset/val/ESP_030136_0930_RED-0016.jpg\n",
            "/content/gdrive/MyDrive/Omdena_Ahmedabad/After_Annotations/Final Dataset/val/PSP_004673_0935_RED-0007-brt.jpg\n",
            "/content/gdrive/MyDrive/Omdena_Ahmedabad/After_Annotations/Final Dataset/val/ESP_030136_0930_RED-0029.jpg\n",
            "/content/gdrive/MyDrive/Omdena_Ahmedabad/After_Annotations/Final Dataset/val/ESP_018720_2655_RED-0027.jpg\n",
            "/content/gdrive/MyDrive/Omdena_Ahmedabad/After_Annotations/Final Dataset/val/ESP_018720_2655_RED-0147.jpg\n",
            "/content/gdrive/MyDrive/Omdena_Ahmedabad/After_Annotations/Final Dataset/val/ESP_018735_2815_RED-0047.jpg\n",
            "/content/gdrive/MyDrive/Omdena_Ahmedabad/After_Annotations/Final Dataset/val/ESP_019559_1390_RED-0578.jpg\n",
            "/content/gdrive/MyDrive/Omdena_Ahmedabad/After_Annotations/Final Dataset/val/ESP_019559_1390_RED-0727.jpg\n",
            "/content/gdrive/MyDrive/Omdena_Ahmedabad/After_Annotations/Final Dataset/val/ESP_018720_2655_RED-0101.jpg\n",
            "/content/gdrive/MyDrive/Omdena_Ahmedabad/After_Annotations/Final Dataset/val/ESP_017001_1805_RED-0197.jpg\n",
            "/content/gdrive/MyDrive/Omdena_Ahmedabad/After_Annotations/Final Dataset/val/PSP_002455_1320_RED-0081.jpg\n",
            "/content/gdrive/MyDrive/Omdena_Ahmedabad/After_Annotations/Final Dataset/val/ESP_018720_2655_RED-0108.jpg\n",
            "/content/gdrive/MyDrive/Omdena_Ahmedabad/After_Annotations/Final Dataset/val/ESP_033955_2065_RED-0046.jpg\n",
            "/content/gdrive/MyDrive/Omdena_Ahmedabad/After_Annotations/Final Dataset/val/ESP_036217_2580_RED-0003.jpg\n",
            "/content/gdrive/MyDrive/Omdena_Ahmedabad/After_Annotations/Final Dataset/val/ESP_033955_2065_RED-0025.jpg\n",
            "/content/gdrive/MyDrive/Omdena_Ahmedabad/After_Annotations/Final Dataset/val/ESP_033955_2065_RED-0031.jpg\n",
            "/content/gdrive/MyDrive/Omdena_Ahmedabad/After_Annotations/Final Dataset/val/ESP_018321_2565_RED-0066.jpg\n",
            "/content/gdrive/MyDrive/Omdena_Ahmedabad/After_Annotations/Final Dataset/val/PSP_002455_1320_RED-0064.jpg\n",
            "/content/gdrive/MyDrive/Omdena_Ahmedabad/After_Annotations/Final Dataset/val/ESP_014429_1940_RED-0017.jpg\n",
            "/content/gdrive/MyDrive/Omdena_Ahmedabad/After_Annotations/Final Dataset/val/ESP_033955_2065_RED-0028.jpg\n",
            "/content/gdrive/MyDrive/Omdena_Ahmedabad/After_Annotations/Final Dataset/val/ESP_018720_2655_RED-0110.jpg\n",
            "/content/gdrive/MyDrive/Omdena_Ahmedabad/After_Annotations/Final Dataset/val/ESP_014429_1940_RED-0032.jpg\n",
            "/content/gdrive/MyDrive/Omdena_Ahmedabad/After_Annotations/Final Dataset/val/ESP_018720_2655_RED-0031.jpg\n",
            "/content/gdrive/MyDrive/Omdena_Ahmedabad/After_Annotations/Final Dataset/val/ESP_018720_2655_RED-0162.jpg\n",
            "/content/gdrive/MyDrive/Omdena_Ahmedabad/After_Annotations/Final Dataset/val/ESP_033955_2065_RED-0045.jpg\n",
            "/content/gdrive/MyDrive/Omdena_Ahmedabad/After_Annotations/Final Dataset/val/ESP_033955_2065_RED-0033.jpg\n",
            "/content/gdrive/MyDrive/Omdena_Ahmedabad/After_Annotations/Final Dataset/val/ESP_018720_2655_RED-0114.jpg\n",
            "/content/gdrive/MyDrive/Omdena_Ahmedabad/After_Annotations/Final Dataset/val/ESP_018720_2655_RED-0083.jpg\n",
            "/content/gdrive/MyDrive/Omdena_Ahmedabad/After_Annotations/Final Dataset/val/PSP_002455_1320_RED-0083.jpg\n",
            "/content/gdrive/MyDrive/Omdena_Ahmedabad/After_Annotations/Final Dataset/val/ESP_018720_2655_RED-0118.jpg\n",
            "/content/gdrive/MyDrive/Omdena_Ahmedabad/After_Annotations/Final Dataset/val/ESP_033955_2065_RED-0051.jpg\n",
            "/content/gdrive/MyDrive/Omdena_Ahmedabad/After_Annotations/Final Dataset/val/PSP_002455_1320_RED-0111.jpg\n",
            "/content/gdrive/MyDrive/Omdena_Ahmedabad/After_Annotations/Final Dataset/val/ESP_018720_2655_RED-0045.jpg\n",
            "/content/gdrive/MyDrive/Omdena_Ahmedabad/After_Annotations/Final Dataset/val/PSP_002455_1320_RED-0104.jpg\n",
            "/content/gdrive/MyDrive/Omdena_Ahmedabad/After_Annotations/Final Dataset/val/ESP_018720_2655_RED-0160.jpg\n",
            "/content/gdrive/MyDrive/Omdena_Ahmedabad/After_Annotations/Final Dataset/val/ESP_016730_1960_RED-0503-r270.jpg\n",
            "/content/gdrive/MyDrive/Omdena_Ahmedabad/After_Annotations/Final Dataset/val/03_1_after_vflip.jpg\n",
            "/content/gdrive/MyDrive/Omdena_Ahmedabad/After_Annotations/Final Dataset/val/03_1_after_rot90.jpg\n",
            "/content/gdrive/MyDrive/Omdena_Ahmedabad/After_Annotations/Final Dataset/val/13_1_after_vflip.jpg\n",
            "/content/gdrive/MyDrive/Omdena_Ahmedabad/After_Annotations/Final Dataset/val/ESP_019011_2245_RED-0552-r180.jpg\n",
            "/content/gdrive/MyDrive/Omdena_Ahmedabad/After_Annotations/Final Dataset/val/03_1_after.jpg\n",
            "/content/gdrive/MyDrive/Omdena_Ahmedabad/After_Annotations/Final Dataset/val/43_1_after.jpg\n",
            "/content/gdrive/MyDrive/Omdena_Ahmedabad/After_Annotations/Final Dataset/val/43_1_after_rot90.jpg\n",
            "/content/gdrive/MyDrive/Omdena_Ahmedabad/After_Annotations/Final Dataset/val/ESP_013161_1715_RED-0065-fv.jpg\n",
            "/content/gdrive/MyDrive/Omdena_Ahmedabad/After_Annotations/Final Dataset/val/03_1_after_hflip.jpg\n",
            "/content/gdrive/MyDrive/Omdena_Ahmedabad/After_Annotations/Final Dataset/val/12_1_after_rot90.jpg\n",
            "/content/gdrive/MyDrive/Omdena_Ahmedabad/After_Annotations/Final Dataset/val/09_1_after_rot270.jpg\n",
            "/content/gdrive/MyDrive/Omdena_Ahmedabad/After_Annotations/Final Dataset/val/01_1_after_hflip.jpg\n",
            "/content/gdrive/MyDrive/Omdena_Ahmedabad/After_Annotations/Final Dataset/val/09_1_after_vflip.jpg\n"
          ]
        }
      ]
    },
    {
      "cell_type": "code",
      "source": [
        "len(Val_txt)"
      ],
      "metadata": {
        "colab": {
          "base_uri": "https://localhost:8080/"
        },
        "id": "9W3t-ONp6LAB",
        "outputId": "77bf7c44-db4e-4f22-ff3d-761bd2b6c454"
      },
      "execution_count": null,
      "outputs": [
        {
          "output_type": "execute_result",
          "data": {
            "text/plain": [
              "156"
            ]
          },
          "metadata": {},
          "execution_count": 220
        }
      ]
    }
  ]
}